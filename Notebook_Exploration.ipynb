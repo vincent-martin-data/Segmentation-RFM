{
  "cells": [
    {
      "cell_type": "code",
      "execution_count": null,
      "id": "bc0141cf-5d78-48ae-b8a9-ac8ec5b30112",
      "metadata": {
        "id": "bc0141cf-5d78-48ae-b8a9-ac8ec5b30112"
      },
      "outputs": [],
      "source": [
        "from datetime import date, timedelta\n",
        "\n",
        "import ipyvolume as ipv\n",
        "import matplotlib as mplt\n",
        "import matplotlib.pyplot as plt\n",
        "import numpy as np\n",
        "import pandas as pd\n",
        "import seaborn as sns\n",
        "from mpl_toolkits import mplot3d\n",
        "from scipy.cluster.hierarchy import dendrogram, fcluster, linkage\n",
        "from sklearn.cluster import DBSCAN, AgglomerativeClustering, KMeans\n",
        "from sklearn.decomposition import PCA\n",
        "from sklearn.preprocessing import StandardScaler\n",
        "from yellowbrick.cluster import KElbowVisualizer, SilhouetteVisualizer"
      ]
    },
    {
      "cell_type": "code",
      "execution_count": null,
      "id": "2b262355-7a2d-40cc-af7b-115332fcac2d",
      "metadata": {
        "id": "2b262355-7a2d-40cc-af7b-115332fcac2d",
        "outputId": "b9356df3-cb4a-48ae-8e9a-cef669f7b777"
      },
      "outputs": [
        {
          "name": "stdout",
          "output_type": "stream",
          "text": [
            "C:\\Users\\33769\\OneDrive\\Bureau\\DataScientist\\Projets\\Projet_5\n"
          ]
        }
      ],
      "source": [
        "# Import du dataset\n",
        "\n",
        "%cd \"Chemin vers le Dataset\"\n",
        "\n",
        "df_olist_customers = pd.read_csv(\"olist_customers_dataset.csv\", sep=\",\")\n",
        "df_olist_geolocalisation = pd.read_csv(\"olist_geolocation_dataset.csv\",\n",
        "                                       sep=\",\")\n",
        "df_olist_order_items = pd.read_csv(\"olist_order_items_dataset.csv\", sep=\",\")\n",
        "df_olist_order_payments = pd.read_csv(\"olist_order_payments_dataset.csv\",\n",
        "                                      sep=\",\")\n",
        "df_olist_order_reviews_dataset = pd.read_csv(\n",
        "    \"olist_order_reviews_dataset.csv\", sep=\",\")\n",
        "df_olist_orders_dataset = pd.read_csv(\"olist_orders_dataset.csv\", sep=\",\")\n",
        "df_olist_products = pd.read_csv(\"olist_products_dataset.csv\", sep=\",\")\n",
        "df_olist_sellers = pd.read_csv(\"olist_sellers_dataset.csv\", sep=\",\")\n",
        "df_olist_products_category_name_translation = pd.read_csv(\n",
        "    \"product_category_name_translation.csv\", sep=\",\"\n",
        ")"
      ]
    },
    {
      "cell_type": "code",
      "execution_count": null,
      "id": "33db19e0-5db1-4e40-a09a-22ddd2a329f4",
      "metadata": {
        "id": "33db19e0-5db1-4e40-a09a-22ddd2a329f4"
      },
      "outputs": [],
      "source": [
        "pd.set_option(\"display.max_columns\", 40)"
      ]
    },
    {
      "cell_type": "code",
      "execution_count": null,
      "id": "1d721cd9-7638-40ea-bc8c-4ce0a324bc90",
      "metadata": {
        "id": "1d721cd9-7638-40ea-bc8c-4ce0a324bc90",
        "outputId": "8d745720-720a-47c5-bd99-47b602d82095"
      },
      "outputs": [
        {
          "name": "stdout",
          "output_type": "stream",
          "text": [
            "<class 'pandas.core.frame.DataFrame'>\n",
            "RangeIndex: 99441 entries, 0 to 99440\n",
            "Data columns (total 5 columns):\n",
            " #   Column                    Non-Null Count  Dtype \n",
            "---  ------                    --------------  ----- \n",
            " 0   customer_id               99441 non-null  object\n",
            " 1   customer_unique_id        99441 non-null  object\n",
            " 2   customer_zip_code_prefix  99441 non-null  int64 \n",
            " 3   customer_city             99441 non-null  object\n",
            " 4   customer_state            99441 non-null  object\n",
            "dtypes: int64(1), object(4)\n",
            "memory usage: 3.8+ MB\n"
          ]
        }
      ],
      "source": [
        "df_olist_customers.info()"
      ]
    },
    {
      "cell_type": "code",
      "execution_count": null,
      "id": "6b9a8b2a-19b6-4b72-94a5-064e22364a25",
      "metadata": {
        "id": "6b9a8b2a-19b6-4b72-94a5-064e22364a25",
        "outputId": "9e8f73a8-bbad-42a0-e08c-5a716fe0f6bc"
      },
      "outputs": [
        {
          "name": "stdout",
          "output_type": "stream",
          "text": [
            "<class 'pandas.core.frame.DataFrame'>\n",
            "RangeIndex: 1000163 entries, 0 to 1000162\n",
            "Data columns (total 5 columns):\n",
            " #   Column                       Non-Null Count    Dtype  \n",
            "---  ------                       --------------    -----  \n",
            " 0   geolocation_zip_code_prefix  1000163 non-null  int64  \n",
            " 1   geolocation_lat              1000163 non-null  float64\n",
            " 2   geolocation_lng              1000163 non-null  float64\n",
            " 3   geolocation_city             1000163 non-null  object \n",
            " 4   geolocation_state            1000163 non-null  object \n",
            "dtypes: float64(2), int64(1), object(2)\n",
            "memory usage: 38.2+ MB\n"
          ]
        }
      ],
      "source": [
        "df_olist_geolocalisation.info()"
      ]
    },
    {
      "cell_type": "code",
      "execution_count": null,
      "id": "c2f63e0f-5838-40ee-b1a0-341ecb5a8669",
      "metadata": {
        "id": "c2f63e0f-5838-40ee-b1a0-341ecb5a8669",
        "outputId": "261ae029-f4f2-4690-c5e6-300bd2cc5b27"
      },
      "outputs": [
        {
          "name": "stdout",
          "output_type": "stream",
          "text": [
            "<class 'pandas.core.frame.DataFrame'>\n",
            "RangeIndex: 112650 entries, 0 to 112649\n",
            "Data columns (total 7 columns):\n",
            " #   Column               Non-Null Count   Dtype  \n",
            "---  ------               --------------   -----  \n",
            " 0   order_id             112650 non-null  object \n",
            " 1   order_item_id        112650 non-null  int64  \n",
            " 2   product_id           112650 non-null  object \n",
            " 3   seller_id            112650 non-null  object \n",
            " 4   shipping_limit_date  112650 non-null  object \n",
            " 5   price                112650 non-null  float64\n",
            " 6   freight_value        112650 non-null  float64\n",
            "dtypes: float64(2), int64(1), object(4)\n",
            "memory usage: 6.0+ MB\n"
          ]
        }
      ],
      "source": [
        "df_olist_order_items.info()"
      ]
    },
    {
      "cell_type": "code",
      "execution_count": null,
      "id": "4001cc97-5341-4ceb-a3ed-ba7e363db55f",
      "metadata": {
        "id": "4001cc97-5341-4ceb-a3ed-ba7e363db55f",
        "outputId": "81b4c214-6022-4d96-9a9e-5668ec3221bb"
      },
      "outputs": [
        {
          "name": "stdout",
          "output_type": "stream",
          "text": [
            "<class 'pandas.core.frame.DataFrame'>\n",
            "RangeIndex: 112650 entries, 0 to 112649\n",
            "Data columns (total 7 columns):\n",
            " #   Column               Non-Null Count   Dtype         \n",
            "---  ------               --------------   -----         \n",
            " 0   order_id             112650 non-null  object        \n",
            " 1   order_item_id        112650 non-null  int64         \n",
            " 2   product_id           112650 non-null  object        \n",
            " 3   seller_id            112650 non-null  object        \n",
            " 4   shipping_limit_date  112650 non-null  datetime64[ns]\n",
            " 5   price                112650 non-null  float64       \n",
            " 6   freight_value        112650 non-null  float64       \n",
            "dtypes: datetime64[ns](1), float64(2), int64(1), object(3)\n",
            "memory usage: 6.0+ MB\n"
          ]
        }
      ],
      "source": [
        "df_olist_order_items[\"shipping_limit_date\"] = pd.to_datetime(\n",
        "    df_olist_order_items[\"shipping_limit_date\"]\n",
        ")\n",
        "df_olist_order_items.info()"
      ]
    },
    {
      "cell_type": "code",
      "execution_count": null,
      "id": "9d4cfbbc-a180-4591-a6e5-50727d595f55",
      "metadata": {
        "id": "9d4cfbbc-a180-4591-a6e5-50727d595f55",
        "outputId": "9ef89ae7-b0bf-42e4-dac4-4b8d0046971a"
      },
      "outputs": [
        {
          "name": "stdout",
          "output_type": "stream",
          "text": [
            "<class 'pandas.core.frame.DataFrame'>\n",
            "RangeIndex: 103886 entries, 0 to 103885\n",
            "Data columns (total 5 columns):\n",
            " #   Column                Non-Null Count   Dtype  \n",
            "---  ------                --------------   -----  \n",
            " 0   order_id              103886 non-null  object \n",
            " 1   payment_sequential    103886 non-null  int64  \n",
            " 2   payment_type          103886 non-null  object \n",
            " 3   payment_installments  103886 non-null  int64  \n",
            " 4   payment_value         103886 non-null  float64\n",
            "dtypes: float64(1), int64(2), object(2)\n",
            "memory usage: 4.0+ MB\n"
          ]
        }
      ],
      "source": [
        "df_olist_order_payments.info()"
      ]
    },
    {
      "cell_type": "code",
      "execution_count": null,
      "id": "9301f935-a62a-4f64-9cab-c8b92a4d7636",
      "metadata": {
        "id": "9301f935-a62a-4f64-9cab-c8b92a4d7636",
        "outputId": "94681adc-df37-46e2-a640-8b7ec4f50206"
      },
      "outputs": [
        {
          "name": "stdout",
          "output_type": "stream",
          "text": [
            "<class 'pandas.core.frame.DataFrame'>\n",
            "RangeIndex: 99224 entries, 0 to 99223\n",
            "Data columns (total 7 columns):\n",
            " #   Column                   Non-Null Count  Dtype \n",
            "---  ------                   --------------  ----- \n",
            " 0   review_id                99224 non-null  object\n",
            " 1   order_id                 99224 non-null  object\n",
            " 2   review_score             99224 non-null  int64 \n",
            " 3   review_comment_title     11568 non-null  object\n",
            " 4   review_comment_message   40977 non-null  object\n",
            " 5   review_creation_date     99224 non-null  object\n",
            " 6   review_answer_timestamp  99224 non-null  object\n",
            "dtypes: int64(1), object(6)\n",
            "memory usage: 5.3+ MB\n"
          ]
        }
      ],
      "source": [
        "df_olist_order_reviews_dataset.info()"
      ]
    },
    {
      "cell_type": "code",
      "execution_count": null,
      "id": "31cf535f-e278-4eeb-983d-fdcf09523afd",
      "metadata": {
        "id": "31cf535f-e278-4eeb-983d-fdcf09523afd",
        "outputId": "fdd223a5-4d22-44e9-b67b-b6ca116e0e91"
      },
      "outputs": [
        {
          "name": "stdout",
          "output_type": "stream",
          "text": [
            "<class 'pandas.core.frame.DataFrame'>\n",
            "RangeIndex: 99224 entries, 0 to 99223\n",
            "Data columns (total 7 columns):\n",
            " #   Column                   Non-Null Count  Dtype         \n",
            "---  ------                   --------------  -----         \n",
            " 0   review_id                99224 non-null  object        \n",
            " 1   order_id                 99224 non-null  object        \n",
            " 2   review_score             99224 non-null  int64         \n",
            " 3   review_comment_title     11568 non-null  object        \n",
            " 4   review_comment_message   40977 non-null  object        \n",
            " 5   review_creation_date     99224 non-null  datetime64[ns]\n",
            " 6   review_answer_timestamp  99224 non-null  datetime64[ns]\n",
            "dtypes: datetime64[ns](2), int64(1), object(4)\n",
            "memory usage: 5.3+ MB\n"
          ]
        }
      ],
      "source": [
        "df_olist_order_reviews_dataset[\"review_creation_date\"] = pd.to_datetime(\n",
        "    df_olist_order_reviews_dataset[\"review_creation_date\"]\n",
        ")\n",
        "df_olist_order_reviews_dataset[\"review_answer_timestamp\"] = pd.to_datetime(\n",
        "    df_olist_order_reviews_dataset[\"review_answer_timestamp\"]\n",
        ")\n",
        "df_olist_order_reviews_dataset.info()"
      ]
    },
    {
      "cell_type": "code",
      "execution_count": null,
      "id": "43868824-d92a-40c3-ab26-42859ee52958",
      "metadata": {
        "id": "43868824-d92a-40c3-ab26-42859ee52958",
        "outputId": "1c9638b8-9961-47b0-db47-8764de019395"
      },
      "outputs": [
        {
          "name": "stdout",
          "output_type": "stream",
          "text": [
            "<class 'pandas.core.frame.DataFrame'>\n",
            "RangeIndex: 99441 entries, 0 to 99440\n",
            "Data columns (total 8 columns):\n",
            " #   Column                         Non-Null Count  Dtype \n",
            "---  ------                         --------------  ----- \n",
            " 0   order_id                       99441 non-null  object\n",
            " 1   customer_id                    99441 non-null  object\n",
            " 2   order_status                   99441 non-null  object\n",
            " 3   order_purchase_timestamp       99441 non-null  object\n",
            " 4   order_approved_at              99281 non-null  object\n",
            " 5   order_delivered_carrier_date   97658 non-null  object\n",
            " 6   order_delivered_customer_date  96476 non-null  object\n",
            " 7   order_estimated_delivery_date  99441 non-null  object\n",
            "dtypes: object(8)\n",
            "memory usage: 6.1+ MB\n"
          ]
        }
      ],
      "source": [
        "df_olist_orders_dataset.info()"
      ]
    },
    {
      "cell_type": "code",
      "execution_count": null,
      "id": "e4fef165-ff10-4b6d-b3ea-90fbe4be2c5b",
      "metadata": {
        "id": "e4fef165-ff10-4b6d-b3ea-90fbe4be2c5b",
        "outputId": "aeedb323-453f-4091-93cf-c26ec6561532"
      },
      "outputs": [
        {
          "name": "stdout",
          "output_type": "stream",
          "text": [
            "<class 'pandas.core.frame.DataFrame'>\n",
            "RangeIndex: 99441 entries, 0 to 99440\n",
            "Data columns (total 8 columns):\n",
            " #   Column                         Non-Null Count  Dtype         \n",
            "---  ------                         --------------  -----         \n",
            " 0   order_id                       99441 non-null  object        \n",
            " 1   customer_id                    99441 non-null  object        \n",
            " 2   order_status                   99441 non-null  object        \n",
            " 3   order_purchase_timestamp       99441 non-null  datetime64[ns]\n",
            " 4   order_approved_at              99281 non-null  datetime64[ns]\n",
            " 5   order_delivered_carrier_date   97658 non-null  datetime64[ns]\n",
            " 6   order_delivered_customer_date  96476 non-null  datetime64[ns]\n",
            " 7   order_estimated_delivery_date  99441 non-null  datetime64[ns]\n",
            "dtypes: datetime64[ns](5), object(3)\n",
            "memory usage: 6.1+ MB\n"
          ]
        }
      ],
      "source": [
        "df_olist_orders_dataset[\"order_purchase_timestamp\"] = pd.to_datetime(\n",
        "    df_olist_orders_dataset[\"order_purchase_timestamp\"]\n",
        ")\n",
        "df_olist_orders_dataset[\"order_approved_at\"] = pd.to_datetime(\n",
        "    df_olist_orders_dataset[\"order_approved_at\"]\n",
        ")\n",
        "df_olist_orders_dataset[\"order_delivered_carrier_date\"] = pd.to_datetime(\n",
        "    df_olist_orders_dataset[\"order_delivered_carrier_date\"]\n",
        ")\n",
        "df_olist_orders_dataset[\"order_delivered_customer_date\"] = pd.to_datetime(\n",
        "    df_olist_orders_dataset[\"order_delivered_customer_date\"]\n",
        ")\n",
        "df_olist_orders_dataset[\"order_estimated_delivery_date\"] = pd.to_datetime(\n",
        "    df_olist_orders_dataset[\"order_estimated_delivery_date\"]\n",
        ")\n",
        "df_olist_orders_dataset.info()"
      ]
    },
    {
      "cell_type": "code",
      "execution_count": null,
      "id": "845fcaa4-0f07-4478-8c93-ed48414dd11f",
      "metadata": {
        "id": "845fcaa4-0f07-4478-8c93-ed48414dd11f",
        "outputId": "c3e94783-baf8-4a3e-c69e-9f31105b4016"
      },
      "outputs": [
        {
          "name": "stdout",
          "output_type": "stream",
          "text": [
            "<class 'pandas.core.frame.DataFrame'>\n",
            "RangeIndex: 32951 entries, 0 to 32950\n",
            "Data columns (total 9 columns):\n",
            " #   Column                      Non-Null Count  Dtype  \n",
            "---  ------                      --------------  -----  \n",
            " 0   product_id                  32951 non-null  object \n",
            " 1   product_category_name       32341 non-null  object \n",
            " 2   product_name_lenght         32341 non-null  float64\n",
            " 3   product_description_lenght  32341 non-null  float64\n",
            " 4   product_photos_qty          32341 non-null  float64\n",
            " 5   product_weight_g            32949 non-null  float64\n",
            " 6   product_length_cm           32949 non-null  float64\n",
            " 7   product_height_cm           32949 non-null  float64\n",
            " 8   product_width_cm            32949 non-null  float64\n",
            "dtypes: float64(7), object(2)\n",
            "memory usage: 2.3+ MB\n"
          ]
        }
      ],
      "source": [
        "df_olist_products.info()"
      ]
    },
    {
      "cell_type": "code",
      "execution_count": null,
      "id": "178cf3b2-a4c5-46f1-9663-28b0d651a5d9",
      "metadata": {
        "id": "178cf3b2-a4c5-46f1-9663-28b0d651a5d9",
        "outputId": "6add3f8e-b1f1-490e-e3fc-0aded52e6373"
      },
      "outputs": [
        {
          "name": "stdout",
          "output_type": "stream",
          "text": [
            "<class 'pandas.core.frame.DataFrame'>\n",
            "RangeIndex: 3095 entries, 0 to 3094\n",
            "Data columns (total 4 columns):\n",
            " #   Column                  Non-Null Count  Dtype \n",
            "---  ------                  --------------  ----- \n",
            " 0   seller_id               3095 non-null   object\n",
            " 1   seller_zip_code_prefix  3095 non-null   int64 \n",
            " 2   seller_city             3095 non-null   object\n",
            " 3   seller_state            3095 non-null   object\n",
            "dtypes: int64(1), object(3)\n",
            "memory usage: 96.8+ KB\n"
          ]
        }
      ],
      "source": [
        "df_olist_sellers.info()"
      ]
    },
    {
      "cell_type": "code",
      "execution_count": null,
      "id": "e5e75b5a-8934-49b5-b3e5-67e37795f46a",
      "metadata": {
        "id": "e5e75b5a-8934-49b5-b3e5-67e37795f46a",
        "outputId": "d6548724-eab7-420b-8997-d6c6dd0d932c"
      },
      "outputs": [
        {
          "name": "stdout",
          "output_type": "stream",
          "text": [
            "<class 'pandas.core.frame.DataFrame'>\n",
            "RangeIndex: 71 entries, 0 to 70\n",
            "Data columns (total 2 columns):\n",
            " #   Column                         Non-Null Count  Dtype \n",
            "---  ------                         --------------  ----- \n",
            " 0   product_category_name          71 non-null     object\n",
            " 1   product_category_name_english  71 non-null     object\n",
            "dtypes: object(2)\n",
            "memory usage: 1.2+ KB\n"
          ]
        }
      ],
      "source": [
        "df_olist_products_category_name_translation.info()"
      ]
    },
    {
      "cell_type": "markdown",
      "id": "40ec3712-5d47-4206-a384-8527fc4afd20",
      "metadata": {
        "id": "40ec3712-5d47-4206-a384-8527fc4afd20"
      },
      "source": [
        "## Traduction des noms de catégories"
      ]
    },
    {
      "cell_type": "code",
      "execution_count": null,
      "id": "9960cf7e-cf7b-4a60-9e43-aacc1a5fe64d",
      "metadata": {
        "id": "9960cf7e-cf7b-4a60-9e43-aacc1a5fe64d"
      },
      "outputs": [],
      "source": [
        "df_olist_products = pd.merge(\n",
        "    df_olist_products,\n",
        "    df_olist_products_category_name_translation,\n",
        "    on=\"product_category_name\",\n",
        "    indicator=True,\n",
        ")"
      ]
    },
    {
      "cell_type": "code",
      "execution_count": null,
      "id": "826615f4-b680-4818-8842-550e2679b159",
      "metadata": {
        "id": "826615f4-b680-4818-8842-550e2679b159",
        "outputId": "b293fdbd-2af2-4c0b-c998-024219169781"
      },
      "outputs": [
        {
          "data": {
            "text/plain": [
              "both          32328\n",
              "left_only         0\n",
              "right_only        0\n",
              "Name: _merge, dtype: int64"
            ]
          },
          "execution_count": 17,
          "metadata": {},
          "output_type": "execute_result"
        }
      ],
      "source": [
        "df_olist_products[\"_merge\"].value_counts()"
      ]
    },
    {
      "cell_type": "code",
      "execution_count": null,
      "id": "9f8879a3-e93d-4c7d-b010-ec2270948ad2",
      "metadata": {
        "id": "9f8879a3-e93d-4c7d-b010-ec2270948ad2"
      },
      "outputs": [],
      "source": [
        "del df_olist_products[\"product_category_name\"]\n",
        "del df_olist_products[\"_merge\"]"
      ]
    },
    {
      "cell_type": "markdown",
      "id": "3a98d8d1-20d3-41d8-9672-6c483bec0ddc",
      "metadata": {
        "id": "3a98d8d1-20d3-41d8-9672-6c483bec0ddc"
      },
      "source": [
        "## Jonction des différents datasets"
      ]
    },
    {
      "cell_type": "markdown",
      "id": "75312a12-5c28-42bd-867b-d035a83c3776",
      "metadata": {
        "id": "75312a12-5c28-42bd-867b-d035a83c3776"
      },
      "source": [
        "![shema_olist_bdd.png](attachment:4be0540c-9ca6-43a8-9da9-2bf96e92dd2e.png)"
      ]
    },
    {
      "cell_type": "markdown",
      "id": "9055846b-a41d-4951-8cff-80cdfb0af335",
      "metadata": {
        "id": "9055846b-a41d-4951-8cff-80cdfb0af335"
      },
      "source": [
        "### Commandes-items-produits"
      ]
    },
    {
      "cell_type": "code",
      "execution_count": null,
      "id": "1eb465b0-8960-4b9c-965a-bd7bc4542cda",
      "metadata": {
        "id": "1eb465b0-8960-4b9c-965a-bd7bc4542cda"
      },
      "outputs": [],
      "source": [
        "df_olist_order_items_products = pd.merge(\n",
        "    df_olist_order_items, df_olist_products, on=\"product_id\", indicator=True\n",
        ")"
      ]
    },
    {
      "cell_type": "code",
      "execution_count": null,
      "id": "5d9776f6-c271-4f9b-a8da-460726377305",
      "metadata": {
        "id": "5d9776f6-c271-4f9b-a8da-460726377305",
        "outputId": "8076d4ad-039f-4336-ce93-80babca74e3c"
      },
      "outputs": [
        {
          "data": {
            "text/plain": [
              "both          111023\n",
              "left_only          0\n",
              "right_only         0\n",
              "Name: _merge, dtype: int64"
            ]
          },
          "execution_count": 20,
          "metadata": {},
          "output_type": "execute_result"
        }
      ],
      "source": [
        "df_olist_order_items_products[\"_merge\"].value_counts()"
      ]
    },
    {
      "cell_type": "code",
      "execution_count": null,
      "id": "14087268-eb7d-4bee-8a58-81b54adbbab7",
      "metadata": {
        "id": "14087268-eb7d-4bee-8a58-81b54adbbab7"
      },
      "outputs": [],
      "source": [
        "del df_olist_order_items_products[\"_merge\"]"
      ]
    },
    {
      "cell_type": "markdown",
      "id": "91639df4-9402-4298-9911-32dd8d4430b4",
      "metadata": {
        "id": "91639df4-9402-4298-9911-32dd8d4430b4"
      },
      "source": [
        "### Commandes-clients"
      ]
    },
    {
      "cell_type": "code",
      "execution_count": null,
      "id": "cd633470-18be-4934-bd1f-b45020bd4d74",
      "metadata": {
        "id": "cd633470-18be-4934-bd1f-b45020bd4d74"
      },
      "outputs": [],
      "source": [
        "df_olist_orders_customer = pd.merge(\n",
        "    df_olist_orders_dataset, df_olist_customers,\n",
        "    on=\"customer_id\", indicator=True)"
      ]
    },
    {
      "cell_type": "code",
      "execution_count": null,
      "id": "b818c0b7-4d66-42fb-bd67-912568bbed70",
      "metadata": {
        "id": "b818c0b7-4d66-42fb-bd67-912568bbed70",
        "outputId": "10739ce1-bae8-4ac6-bded-c33b66217674"
      },
      "outputs": [
        {
          "data": {
            "text/plain": [
              "both          99441\n",
              "left_only         0\n",
              "right_only        0\n",
              "Name: _merge, dtype: int64"
            ]
          },
          "execution_count": 23,
          "metadata": {},
          "output_type": "execute_result"
        }
      ],
      "source": [
        "df_olist_orders_customer[\"_merge\"].value_counts()"
      ]
    },
    {
      "cell_type": "code",
      "execution_count": null,
      "id": "dd78cb8d-9d79-453d-a0d8-ca3dcc504a4c",
      "metadata": {
        "id": "dd78cb8d-9d79-453d-a0d8-ca3dcc504a4c"
      },
      "outputs": [],
      "source": [
        "del df_olist_orders_customer[\"_merge\"]"
      ]
    },
    {
      "cell_type": "markdown",
      "id": "216e76b5-9102-46fa-ac4f-95e0c14ed456",
      "metadata": {
        "id": "216e76b5-9102-46fa-ac4f-95e0c14ed456"
      },
      "source": [
        "### Commandes avis"
      ]
    },
    {
      "cell_type": "code",
      "execution_count": null,
      "id": "80b9cc18-67e1-4b74-9112-88439fed086d",
      "metadata": {
        "id": "80b9cc18-67e1-4b74-9112-88439fed086d"
      },
      "outputs": [],
      "source": [
        "df_olist_orders_reviews_customers = pd.merge(\n",
        "    df_olist_orders_customer,\n",
        "    df_olist_order_reviews_dataset,\n",
        "    on=\"order_id\",\n",
        "    indicator=True,\n",
        ")"
      ]
    },
    {
      "cell_type": "code",
      "execution_count": null,
      "id": "bb06191c-9f2a-4e47-ad75-4dea98b81de0",
      "metadata": {
        "id": "bb06191c-9f2a-4e47-ad75-4dea98b81de0",
        "outputId": "db1262fa-eabb-4257-ee48-de472635e373"
      },
      "outputs": [
        {
          "data": {
            "text/plain": [
              "both          99224\n",
              "left_only         0\n",
              "right_only        0\n",
              "Name: _merge, dtype: int64"
            ]
          },
          "execution_count": 26,
          "metadata": {},
          "output_type": "execute_result"
        }
      ],
      "source": [
        "df_olist_orders_reviews_customers[\"_merge\"].value_counts()"
      ]
    },
    {
      "cell_type": "code",
      "execution_count": null,
      "id": "89a11f03-c392-4137-b5f4-add2a9f7fbbe",
      "metadata": {
        "id": "89a11f03-c392-4137-b5f4-add2a9f7fbbe"
      },
      "outputs": [],
      "source": [
        "del df_olist_orders_reviews_customers[\"_merge\"]"
      ]
    },
    {
      "cell_type": "markdown",
      "id": "220740e5-37c1-4407-a0e7-3895204603d9",
      "metadata": {
        "id": "220740e5-37c1-4407-a0e7-3895204603d9"
      },
      "source": [
        "### Commande-paiment"
      ]
    },
    {
      "cell_type": "code",
      "execution_count": null,
      "id": "1876657c-1cc1-476b-9cca-0d82766ebb45",
      "metadata": {
        "id": "1876657c-1cc1-476b-9cca-0d82766ebb45"
      },
      "outputs": [],
      "source": [
        "df_olist_orders_reviews_customers_payments = pd.merge(\n",
        "    df_olist_orders_reviews_customers,\n",
        "    df_olist_order_payments,\n",
        "    on=\"order_id\",\n",
        "    indicator=True,\n",
        ")"
      ]
    },
    {
      "cell_type": "code",
      "execution_count": null,
      "id": "f421d67c-4f16-47c8-b3ec-463a5bdc4e21",
      "metadata": {
        "id": "f421d67c-4f16-47c8-b3ec-463a5bdc4e21",
        "outputId": "a7b58303-4389-408e-b8bc-bc2abebdd8c5"
      },
      "outputs": [
        {
          "data": {
            "text/plain": [
              "both          103677\n",
              "left_only          0\n",
              "right_only         0\n",
              "Name: _merge, dtype: int64"
            ]
          },
          "execution_count": 29,
          "metadata": {},
          "output_type": "execute_result"
        }
      ],
      "source": [
        "df_olist_orders_reviews_customers_payments[\"_merge\"].value_counts()"
      ]
    },
    {
      "cell_type": "code",
      "execution_count": null,
      "id": "10738db4-da89-4d9b-b284-57e6745e2f7e",
      "metadata": {
        "id": "10738db4-da89-4d9b-b284-57e6745e2f7e"
      },
      "outputs": [],
      "source": [
        "del df_olist_orders_reviews_customers_payments[\"_merge\"]"
      ]
    },
    {
      "cell_type": "markdown",
      "id": "dfa1efcc-03e1-4bfd-bcdf-24fb9c478099",
      "metadata": {
        "id": "dfa1efcc-03e1-4bfd-bcdf-24fb9c478099"
      },
      "source": [
        "### Commande-Produits"
      ]
    },
    {
      "cell_type": "code",
      "execution_count": null,
      "id": "d56e080f-6aac-4058-b26c-a6fb7710bb4f",
      "metadata": {
        "id": "d56e080f-6aac-4058-b26c-a6fb7710bb4f"
      },
      "outputs": [],
      "source": [
        "df_olist_complet = pd.merge(\n",
        "    df_olist_orders_reviews_customers_payments,\n",
        "    df_olist_order_items_products,\n",
        "    on=\"order_id\",\n",
        "    indicator=True,\n",
        ")"
      ]
    },
    {
      "cell_type": "code",
      "execution_count": null,
      "id": "ea1cd51f-19b0-4c65-b025-4009a9eae53b",
      "metadata": {
        "id": "ea1cd51f-19b0-4c65-b025-4009a9eae53b",
        "outputId": "4d63e689-e288-4a10-d09b-3ab87e3b8b1c"
      },
      "outputs": [
        {
          "data": {
            "text/plain": [
              "both          115609\n",
              "left_only          0\n",
              "right_only         0\n",
              "Name: _merge, dtype: int64"
            ]
          },
          "execution_count": 32,
          "metadata": {},
          "output_type": "execute_result"
        }
      ],
      "source": [
        "df_olist_complet[\"_merge\"].value_counts()"
      ]
    },
    {
      "cell_type": "code",
      "execution_count": null,
      "id": "1a1857f1-e0db-4fcb-b6c6-c9f131b8649b",
      "metadata": {
        "id": "1a1857f1-e0db-4fcb-b6c6-c9f131b8649b"
      },
      "outputs": [],
      "source": [
        "del df_olist_complet[\"_merge\"]"
      ]
    },
    {
      "cell_type": "markdown",
      "id": "7588b17b-8132-4e33-a017-d8a0eb219a5b",
      "metadata": {
        "id": "7588b17b-8132-4e33-a017-d8a0eb219a5b"
      },
      "source": [
        "## Dataset complet"
      ]
    },
    {
      "cell_type": "code",
      "execution_count": null,
      "id": "f18e3b05-d6c0-4aef-b596-f86c85666777",
      "metadata": {
        "id": "f18e3b05-d6c0-4aef-b596-f86c85666777",
        "outputId": "2b94936b-3a60-49b2-d1b3-65238351d005"
      },
      "outputs": [
        {
          "name": "stdout",
          "output_type": "stream",
          "text": [
            "<class 'pandas.core.frame.DataFrame'>\n",
            "Int64Index: 115609 entries, 0 to 115608\n",
            "Data columns (total 36 columns):\n",
            " #   Column                         Non-Null Count   Dtype         \n",
            "---  ------                         --------------   -----         \n",
            " 0   order_id                       115609 non-null  object        \n",
            " 1   customer_id                    115609 non-null  object        \n",
            " 2   order_status                   115609 non-null  object        \n",
            " 3   order_purchase_timestamp       115609 non-null  datetime64[ns]\n",
            " 4   order_approved_at              115595 non-null  datetime64[ns]\n",
            " 5   order_delivered_carrier_date   114414 non-null  datetime64[ns]\n",
            " 6   order_delivered_customer_date  113209 non-null  datetime64[ns]\n",
            " 7   order_estimated_delivery_date  115609 non-null  datetime64[ns]\n",
            " 8   customer_unique_id             115609 non-null  object        \n",
            " 9   customer_zip_code_prefix       115609 non-null  int64         \n",
            " 10  customer_city                  115609 non-null  object        \n",
            " 11  customer_state                 115609 non-null  object        \n",
            " 12  review_id                      115609 non-null  object        \n",
            " 13  review_score                   115609 non-null  int64         \n",
            " 14  review_comment_title           13801 non-null   object        \n",
            " 15  review_comment_message         48906 non-null   object        \n",
            " 16  review_creation_date           115609 non-null  datetime64[ns]\n",
            " 17  review_answer_timestamp        115609 non-null  datetime64[ns]\n",
            " 18  payment_sequential             115609 non-null  int64         \n",
            " 19  payment_type                   115609 non-null  object        \n",
            " 20  payment_installments           115609 non-null  int64         \n",
            " 21  payment_value                  115609 non-null  float64       \n",
            " 22  order_item_id                  115609 non-null  int64         \n",
            " 23  product_id                     115609 non-null  object        \n",
            " 24  seller_id                      115609 non-null  object        \n",
            " 25  shipping_limit_date            115609 non-null  datetime64[ns]\n",
            " 26  price                          115609 non-null  float64       \n",
            " 27  freight_value                  115609 non-null  float64       \n",
            " 28  product_name_lenght            115609 non-null  float64       \n",
            " 29  product_description_lenght     115609 non-null  float64       \n",
            " 30  product_photos_qty             115609 non-null  float64       \n",
            " 31  product_weight_g               115608 non-null  float64       \n",
            " 32  product_length_cm              115608 non-null  float64       \n",
            " 33  product_height_cm              115608 non-null  float64       \n",
            " 34  product_width_cm               115608 non-null  float64       \n",
            " 35  product_category_name_english  115609 non-null  object        \n",
            "dtypes: datetime64[ns](8), float64(10), int64(5), object(13)\n",
            "memory usage: 32.6+ MB\n"
          ]
        }
      ],
      "source": [
        "df_olist_complet.info()"
      ]
    },
    {
      "cell_type": "code",
      "execution_count": null,
      "id": "ee54b03b-d804-41c5-a443-49a69f4904cc",
      "metadata": {
        "id": "ee54b03b-d804-41c5-a443-49a69f4904cc"
      },
      "outputs": [],
      "source": [
        "del df_olist_complet[\"review_comment_title\"]\n",
        "del df_olist_complet[\"review_comment_message\"]\n",
        "del df_olist_complet[\"freight_value\"]\n",
        "del df_olist_complet[\"product_name_lenght\"]\n",
        "del df_olist_complet[\"product_description_lenght\"]\n",
        "del df_olist_complet[\"product_photos_qty\"]\n",
        "del df_olist_complet[\"product_length_cm\"]\n",
        "del df_olist_complet[\"product_weight_g\"]\n",
        "del df_olist_complet[\"product_height_cm\"]\n",
        "del df_olist_complet[\"product_width_cm\"]\n",
        "del df_olist_complet[\"payment_type\"]\n",
        "del df_olist_complet[\"payment_sequential\"]"
      ]
    },
    {
      "cell_type": "code",
      "execution_count": null,
      "id": "14c98cc6-163b-43f2-aed2-713b936ae912",
      "metadata": {
        "tags": [],
        "id": "14c98cc6-163b-43f2-aed2-713b936ae912",
        "outputId": "ae3c459c-9a4a-4aa7-8294-7518bfda7190"
      },
      "outputs": [
        {
          "data": {
            "text/html": [
              "<div>\n",
              "<style scoped>\n",
              "    .dataframe tbody tr th:only-of-type {\n",
              "        vertical-align: middle;\n",
              "    }\n",
              "\n",
              "    .dataframe tbody tr th {\n",
              "        vertical-align: top;\n",
              "    }\n",
              "\n",
              "    .dataframe thead th {\n",
              "        text-align: right;\n",
              "    }\n",
              "</style>\n",
              "<table border=\"1\" class=\"dataframe\">\n",
              "  <thead>\n",
              "    <tr style=\"text-align: right;\">\n",
              "      <th></th>\n",
              "      <th>customer_zip_code_prefix</th>\n",
              "      <th>review_score</th>\n",
              "      <th>payment_installments</th>\n",
              "      <th>payment_value</th>\n",
              "      <th>order_item_id</th>\n",
              "      <th>price</th>\n",
              "    </tr>\n",
              "  </thead>\n",
              "  <tbody>\n",
              "    <tr>\n",
              "      <th>count</th>\n",
              "      <td>115609.000000</td>\n",
              "      <td>115609.000000</td>\n",
              "      <td>115609.000000</td>\n",
              "      <td>115609.000000</td>\n",
              "      <td>115609.000000</td>\n",
              "      <td>115609.000000</td>\n",
              "    </tr>\n",
              "    <tr>\n",
              "      <th>mean</th>\n",
              "      <td>35061.537597</td>\n",
              "      <td>4.034409</td>\n",
              "      <td>2.946233</td>\n",
              "      <td>172.387379</td>\n",
              "      <td>1.194535</td>\n",
              "      <td>120.619850</td>\n",
              "    </tr>\n",
              "    <tr>\n",
              "      <th>std</th>\n",
              "      <td>29841.671732</td>\n",
              "      <td>1.385584</td>\n",
              "      <td>2.781087</td>\n",
              "      <td>265.873969</td>\n",
              "      <td>0.685926</td>\n",
              "      <td>182.653476</td>\n",
              "    </tr>\n",
              "    <tr>\n",
              "      <th>min</th>\n",
              "      <td>1003.000000</td>\n",
              "      <td>1.000000</td>\n",
              "      <td>0.000000</td>\n",
              "      <td>0.000000</td>\n",
              "      <td>1.000000</td>\n",
              "      <td>0.850000</td>\n",
              "    </tr>\n",
              "    <tr>\n",
              "      <th>25%</th>\n",
              "      <td>11310.000000</td>\n",
              "      <td>4.000000</td>\n",
              "      <td>1.000000</td>\n",
              "      <td>60.870000</td>\n",
              "      <td>1.000000</td>\n",
              "      <td>39.900000</td>\n",
              "    </tr>\n",
              "    <tr>\n",
              "      <th>50%</th>\n",
              "      <td>24241.000000</td>\n",
              "      <td>5.000000</td>\n",
              "      <td>2.000000</td>\n",
              "      <td>108.050000</td>\n",
              "      <td>1.000000</td>\n",
              "      <td>74.900000</td>\n",
              "    </tr>\n",
              "    <tr>\n",
              "      <th>75%</th>\n",
              "      <td>58745.000000</td>\n",
              "      <td>5.000000</td>\n",
              "      <td>4.000000</td>\n",
              "      <td>189.480000</td>\n",
              "      <td>1.000000</td>\n",
              "      <td>134.900000</td>\n",
              "    </tr>\n",
              "    <tr>\n",
              "      <th>max</th>\n",
              "      <td>99980.000000</td>\n",
              "      <td>5.000000</td>\n",
              "      <td>24.000000</td>\n",
              "      <td>13664.080000</td>\n",
              "      <td>21.000000</td>\n",
              "      <td>6735.000000</td>\n",
              "    </tr>\n",
              "  </tbody>\n",
              "</table>\n",
              "</div>"
            ],
            "text/plain": [
              "       customer_zip_code_prefix   review_score  payment_installments  \\\n",
              "count             115609.000000  115609.000000         115609.000000   \n",
              "mean               35061.537597       4.034409              2.946233   \n",
              "std                29841.671732       1.385584              2.781087   \n",
              "min                 1003.000000       1.000000              0.000000   \n",
              "25%                11310.000000       4.000000              1.000000   \n",
              "50%                24241.000000       5.000000              2.000000   \n",
              "75%                58745.000000       5.000000              4.000000   \n",
              "max                99980.000000       5.000000             24.000000   \n",
              "\n",
              "       payment_value  order_item_id          price  \n",
              "count  115609.000000  115609.000000  115609.000000  \n",
              "mean      172.387379       1.194535     120.619850  \n",
              "std       265.873969       0.685926     182.653476  \n",
              "min         0.000000       1.000000       0.850000  \n",
              "25%        60.870000       1.000000      39.900000  \n",
              "50%       108.050000       1.000000      74.900000  \n",
              "75%       189.480000       1.000000     134.900000  \n",
              "max     13664.080000      21.000000    6735.000000  "
            ]
          },
          "execution_count": 36,
          "metadata": {},
          "output_type": "execute_result"
        }
      ],
      "source": [
        "df_olist_complet.describe()"
      ]
    },
    {
      "cell_type": "code",
      "execution_count": null,
      "id": "d35e9d70-7e15-433a-bec8-8ada8cb4e7c5",
      "metadata": {
        "id": "d35e9d70-7e15-433a-bec8-8ada8cb4e7c5",
        "outputId": "d4358187-a3ed-4450-c0ea-6127f0e7ce20"
      },
      "outputs": [
        {
          "data": {
            "text/html": [
              "<div>\n",
              "<style scoped>\n",
              "    .dataframe tbody tr th:only-of-type {\n",
              "        vertical-align: middle;\n",
              "    }\n",
              "\n",
              "    .dataframe tbody tr th {\n",
              "        vertical-align: top;\n",
              "    }\n",
              "\n",
              "    .dataframe thead th {\n",
              "        text-align: right;\n",
              "    }\n",
              "</style>\n",
              "<table border=\"1\" class=\"dataframe\">\n",
              "  <thead>\n",
              "    <tr style=\"text-align: right;\">\n",
              "      <th></th>\n",
              "      <th>order_id</th>\n",
              "      <th>customer_id</th>\n",
              "      <th>order_status</th>\n",
              "      <th>order_purchase_timestamp</th>\n",
              "      <th>order_approved_at</th>\n",
              "      <th>order_delivered_carrier_date</th>\n",
              "      <th>order_delivered_customer_date</th>\n",
              "      <th>order_estimated_delivery_date</th>\n",
              "      <th>customer_unique_id</th>\n",
              "      <th>customer_zip_code_prefix</th>\n",
              "      <th>customer_city</th>\n",
              "      <th>customer_state</th>\n",
              "      <th>review_id</th>\n",
              "      <th>review_score</th>\n",
              "      <th>review_creation_date</th>\n",
              "      <th>review_answer_timestamp</th>\n",
              "      <th>payment_installments</th>\n",
              "      <th>payment_value</th>\n",
              "      <th>order_item_id</th>\n",
              "      <th>product_id</th>\n",
              "      <th>seller_id</th>\n",
              "      <th>shipping_limit_date</th>\n",
              "      <th>price</th>\n",
              "      <th>product_category_name_english</th>\n",
              "    </tr>\n",
              "  </thead>\n",
              "  <tbody>\n",
              "    <tr>\n",
              "      <th>0</th>\n",
              "      <td>e481f51cbdc54678b7cc49136f2d6af7</td>\n",
              "      <td>9ef432eb6251297304e76186b10a928d</td>\n",
              "      <td>delivered</td>\n",
              "      <td>2017-10-02 10:56:33</td>\n",
              "      <td>2017-10-02 11:07:15</td>\n",
              "      <td>2017-10-04 19:55:00</td>\n",
              "      <td>2017-10-10 21:25:13</td>\n",
              "      <td>2017-10-18</td>\n",
              "      <td>7c396fd4830fd04220f754e42b4e5bff</td>\n",
              "      <td>3149</td>\n",
              "      <td>sao paulo</td>\n",
              "      <td>SP</td>\n",
              "      <td>a54f0611adc9ed256b57ede6b6eb5114</td>\n",
              "      <td>4</td>\n",
              "      <td>2017-10-11</td>\n",
              "      <td>2017-10-12 03:43:48</td>\n",
              "      <td>1</td>\n",
              "      <td>18.12</td>\n",
              "      <td>1</td>\n",
              "      <td>87285b34884572647811a353c7ac498a</td>\n",
              "      <td>3504c0cb71d7fa48d967e0e4c94d59d9</td>\n",
              "      <td>2017-10-06 11:07:15</td>\n",
              "      <td>29.99</td>\n",
              "      <td>housewares</td>\n",
              "    </tr>\n",
              "    <tr>\n",
              "      <th>1</th>\n",
              "      <td>e481f51cbdc54678b7cc49136f2d6af7</td>\n",
              "      <td>9ef432eb6251297304e76186b10a928d</td>\n",
              "      <td>delivered</td>\n",
              "      <td>2017-10-02 10:56:33</td>\n",
              "      <td>2017-10-02 11:07:15</td>\n",
              "      <td>2017-10-04 19:55:00</td>\n",
              "      <td>2017-10-10 21:25:13</td>\n",
              "      <td>2017-10-18</td>\n",
              "      <td>7c396fd4830fd04220f754e42b4e5bff</td>\n",
              "      <td>3149</td>\n",
              "      <td>sao paulo</td>\n",
              "      <td>SP</td>\n",
              "      <td>a54f0611adc9ed256b57ede6b6eb5114</td>\n",
              "      <td>4</td>\n",
              "      <td>2017-10-11</td>\n",
              "      <td>2017-10-12 03:43:48</td>\n",
              "      <td>1</td>\n",
              "      <td>2.00</td>\n",
              "      <td>1</td>\n",
              "      <td>87285b34884572647811a353c7ac498a</td>\n",
              "      <td>3504c0cb71d7fa48d967e0e4c94d59d9</td>\n",
              "      <td>2017-10-06 11:07:15</td>\n",
              "      <td>29.99</td>\n",
              "      <td>housewares</td>\n",
              "    </tr>\n",
              "    <tr>\n",
              "      <th>2</th>\n",
              "      <td>e481f51cbdc54678b7cc49136f2d6af7</td>\n",
              "      <td>9ef432eb6251297304e76186b10a928d</td>\n",
              "      <td>delivered</td>\n",
              "      <td>2017-10-02 10:56:33</td>\n",
              "      <td>2017-10-02 11:07:15</td>\n",
              "      <td>2017-10-04 19:55:00</td>\n",
              "      <td>2017-10-10 21:25:13</td>\n",
              "      <td>2017-10-18</td>\n",
              "      <td>7c396fd4830fd04220f754e42b4e5bff</td>\n",
              "      <td>3149</td>\n",
              "      <td>sao paulo</td>\n",
              "      <td>SP</td>\n",
              "      <td>a54f0611adc9ed256b57ede6b6eb5114</td>\n",
              "      <td>4</td>\n",
              "      <td>2017-10-11</td>\n",
              "      <td>2017-10-12 03:43:48</td>\n",
              "      <td>1</td>\n",
              "      <td>18.59</td>\n",
              "      <td>1</td>\n",
              "      <td>87285b34884572647811a353c7ac498a</td>\n",
              "      <td>3504c0cb71d7fa48d967e0e4c94d59d9</td>\n",
              "      <td>2017-10-06 11:07:15</td>\n",
              "      <td>29.99</td>\n",
              "      <td>housewares</td>\n",
              "    </tr>\n",
              "    <tr>\n",
              "      <th>3</th>\n",
              "      <td>53cdb2fc8bc7dce0b6741e2150273451</td>\n",
              "      <td>b0830fb4747a6c6d20dea0b8c802d7ef</td>\n",
              "      <td>delivered</td>\n",
              "      <td>2018-07-24 20:41:37</td>\n",
              "      <td>2018-07-26 03:24:27</td>\n",
              "      <td>2018-07-26 14:31:00</td>\n",
              "      <td>2018-08-07 15:27:45</td>\n",
              "      <td>2018-08-13</td>\n",
              "      <td>af07308b275d755c9edb36a90c618231</td>\n",
              "      <td>47813</td>\n",
              "      <td>barreiras</td>\n",
              "      <td>BA</td>\n",
              "      <td>8d5266042046a06655c8db133d120ba5</td>\n",
              "      <td>4</td>\n",
              "      <td>2018-08-08</td>\n",
              "      <td>2018-08-08 18:37:50</td>\n",
              "      <td>1</td>\n",
              "      <td>141.46</td>\n",
              "      <td>1</td>\n",
              "      <td>595fac2a385ac33a80bd5114aec74eb8</td>\n",
              "      <td>289cdb325fb7e7f891c38608bf9e0962</td>\n",
              "      <td>2018-07-30 03:24:27</td>\n",
              "      <td>118.70</td>\n",
              "      <td>perfumery</td>\n",
              "    </tr>\n",
              "    <tr>\n",
              "      <th>4</th>\n",
              "      <td>47770eb9100c2d0c44946d9cf07ec65d</td>\n",
              "      <td>41ce2a54c0b03bf3443c3d931a367089</td>\n",
              "      <td>delivered</td>\n",
              "      <td>2018-08-08 08:38:49</td>\n",
              "      <td>2018-08-08 08:55:23</td>\n",
              "      <td>2018-08-08 13:50:00</td>\n",
              "      <td>2018-08-17 18:06:29</td>\n",
              "      <td>2018-09-04</td>\n",
              "      <td>3a653a41f6f9fc3d2a113cf8398680e8</td>\n",
              "      <td>75265</td>\n",
              "      <td>vianopolis</td>\n",
              "      <td>GO</td>\n",
              "      <td>e73b67b67587f7644d5bd1a52deb1b01</td>\n",
              "      <td>5</td>\n",
              "      <td>2018-08-18</td>\n",
              "      <td>2018-08-22 19:07:58</td>\n",
              "      <td>3</td>\n",
              "      <td>179.12</td>\n",
              "      <td>1</td>\n",
              "      <td>aa4383b373c6aca5d8797843e5594415</td>\n",
              "      <td>4869f7a5dfa277a7dca6462dcf3b52b2</td>\n",
              "      <td>2018-08-13 08:55:23</td>\n",
              "      <td>159.90</td>\n",
              "      <td>auto</td>\n",
              "    </tr>\n",
              "    <tr>\n",
              "      <th>5</th>\n",
              "      <td>949d5b44dbf5de918fe9c16f97b45f8a</td>\n",
              "      <td>f88197465ea7920adcdbec7375364d82</td>\n",
              "      <td>delivered</td>\n",
              "      <td>2017-11-18 19:28:06</td>\n",
              "      <td>2017-11-18 19:45:59</td>\n",
              "      <td>2017-11-22 13:39:59</td>\n",
              "      <td>2017-12-02 00:28:42</td>\n",
              "      <td>2017-12-15</td>\n",
              "      <td>7c142cf63193a1473d2e66489a9ae977</td>\n",
              "      <td>59296</td>\n",
              "      <td>sao goncalo do amarante</td>\n",
              "      <td>RN</td>\n",
              "      <td>359d03e676b3c069f62cadba8dd3f6e8</td>\n",
              "      <td>5</td>\n",
              "      <td>2017-12-03</td>\n",
              "      <td>2017-12-05 19:21:58</td>\n",
              "      <td>1</td>\n",
              "      <td>72.20</td>\n",
              "      <td>1</td>\n",
              "      <td>d0b61bfb1de832b15ba9d266ca96e5b0</td>\n",
              "      <td>66922902710d126a0e7d26b0e3805106</td>\n",
              "      <td>2017-11-23 19:45:59</td>\n",
              "      <td>45.00</td>\n",
              "      <td>pet_shop</td>\n",
              "    </tr>\n",
              "    <tr>\n",
              "      <th>6</th>\n",
              "      <td>ad21c59c0840e6cb83a9ceb5573f8159</td>\n",
              "      <td>8ab97904e6daea8866dbdbc4fb7aad2c</td>\n",
              "      <td>delivered</td>\n",
              "      <td>2018-02-13 21:18:39</td>\n",
              "      <td>2018-02-13 22:20:29</td>\n",
              "      <td>2018-02-14 19:46:34</td>\n",
              "      <td>2018-02-16 18:17:02</td>\n",
              "      <td>2018-02-26</td>\n",
              "      <td>72632f0f9dd73dfee390c9b22eb56dd6</td>\n",
              "      <td>9195</td>\n",
              "      <td>santo andre</td>\n",
              "      <td>SP</td>\n",
              "      <td>e50934924e227544ba8246aeb3770dd4</td>\n",
              "      <td>5</td>\n",
              "      <td>2018-02-17</td>\n",
              "      <td>2018-02-18 13:02:51</td>\n",
              "      <td>1</td>\n",
              "      <td>28.62</td>\n",
              "      <td>1</td>\n",
              "      <td>65266b2da20d04dbe00c5c2d3bb7859e</td>\n",
              "      <td>2c9e548be18521d1c43cde1c582c6de8</td>\n",
              "      <td>2018-02-19 20:31:37</td>\n",
              "      <td>19.90</td>\n",
              "      <td>stationery</td>\n",
              "    </tr>\n",
              "    <tr>\n",
              "      <th>7</th>\n",
              "      <td>a4591c265e18cb1dcee52889e2d8acc3</td>\n",
              "      <td>503740e9ca751ccdda7ba28e9ab8f608</td>\n",
              "      <td>delivered</td>\n",
              "      <td>2017-07-09 21:57:05</td>\n",
              "      <td>2017-07-09 22:10:13</td>\n",
              "      <td>2017-07-11 14:58:04</td>\n",
              "      <td>2017-07-26 10:57:55</td>\n",
              "      <td>2017-08-01</td>\n",
              "      <td>80bb27c7c16e8f973207a5086ab329e2</td>\n",
              "      <td>86320</td>\n",
              "      <td>congonhinhas</td>\n",
              "      <td>PR</td>\n",
              "      <td>89b738e70a1ce346db29a20fb2910161</td>\n",
              "      <td>4</td>\n",
              "      <td>2017-07-27</td>\n",
              "      <td>2017-07-27 22:48:30</td>\n",
              "      <td>6</td>\n",
              "      <td>175.26</td>\n",
              "      <td>1</td>\n",
              "      <td>060cb19345d90064d1015407193c233d</td>\n",
              "      <td>8581055ce74af1daba164fdbd55a40de</td>\n",
              "      <td>2017-07-13 22:10:13</td>\n",
              "      <td>147.90</td>\n",
              "      <td>auto</td>\n",
              "    </tr>\n",
              "    <tr>\n",
              "      <th>8</th>\n",
              "      <td>6514b8ad8028c9f2cc2374ded245783f</td>\n",
              "      <td>9bdf08b4b3b52b5526ff42d37d47f222</td>\n",
              "      <td>delivered</td>\n",
              "      <td>2017-05-16 13:10:30</td>\n",
              "      <td>2017-05-16 13:22:11</td>\n",
              "      <td>2017-05-22 10:07:46</td>\n",
              "      <td>2017-05-26 12:55:51</td>\n",
              "      <td>2017-06-07</td>\n",
              "      <td>932afa1e708222e5821dac9cd5db4cae</td>\n",
              "      <td>26525</td>\n",
              "      <td>nilopolis</td>\n",
              "      <td>RJ</td>\n",
              "      <td>07d67dd06ed5f88bef11ef6b464e79ae</td>\n",
              "      <td>5</td>\n",
              "      <td>2017-05-27</td>\n",
              "      <td>2017-05-28 02:59:57</td>\n",
              "      <td>3</td>\n",
              "      <td>75.16</td>\n",
              "      <td>1</td>\n",
              "      <td>4520766ec412348b8d4caa5e8a18c464</td>\n",
              "      <td>16090f2ca825584b5a147ab24aa30c86</td>\n",
              "      <td>2017-05-22 13:22:11</td>\n",
              "      <td>59.99</td>\n",
              "      <td>auto</td>\n",
              "    </tr>\n",
              "    <tr>\n",
              "      <th>9</th>\n",
              "      <td>76c6e866289321a7c93b82b54852dc33</td>\n",
              "      <td>f54a9f0e6b351c431402b8461ea51999</td>\n",
              "      <td>delivered</td>\n",
              "      <td>2017-01-23 18:29:09</td>\n",
              "      <td>2017-01-25 02:50:47</td>\n",
              "      <td>2017-01-26 14:16:31</td>\n",
              "      <td>2017-02-02 14:08:10</td>\n",
              "      <td>2017-03-06</td>\n",
              "      <td>39382392765b6dc74812866ee5ee92a7</td>\n",
              "      <td>99655</td>\n",
              "      <td>faxinalzinho</td>\n",
              "      <td>RS</td>\n",
              "      <td>fc4af8aea8ec3f1a3cd181d3d0cadbd5</td>\n",
              "      <td>1</td>\n",
              "      <td>2017-02-03</td>\n",
              "      <td>2017-02-05 01:58:35</td>\n",
              "      <td>1</td>\n",
              "      <td>35.95</td>\n",
              "      <td>1</td>\n",
              "      <td>ac1789e492dcd698c5c10b97a671243a</td>\n",
              "      <td>63b9ae557efed31d1f7687917d248a8d</td>\n",
              "      <td>2017-01-27 18:29:09</td>\n",
              "      <td>19.90</td>\n",
              "      <td>furniture_decor</td>\n",
              "    </tr>\n",
              "  </tbody>\n",
              "</table>\n",
              "</div>"
            ],
            "text/plain": [
              "                           order_id                       customer_id  \\\n",
              "0  e481f51cbdc54678b7cc49136f2d6af7  9ef432eb6251297304e76186b10a928d   \n",
              "1  e481f51cbdc54678b7cc49136f2d6af7  9ef432eb6251297304e76186b10a928d   \n",
              "2  e481f51cbdc54678b7cc49136f2d6af7  9ef432eb6251297304e76186b10a928d   \n",
              "3  53cdb2fc8bc7dce0b6741e2150273451  b0830fb4747a6c6d20dea0b8c802d7ef   \n",
              "4  47770eb9100c2d0c44946d9cf07ec65d  41ce2a54c0b03bf3443c3d931a367089   \n",
              "5  949d5b44dbf5de918fe9c16f97b45f8a  f88197465ea7920adcdbec7375364d82   \n",
              "6  ad21c59c0840e6cb83a9ceb5573f8159  8ab97904e6daea8866dbdbc4fb7aad2c   \n",
              "7  a4591c265e18cb1dcee52889e2d8acc3  503740e9ca751ccdda7ba28e9ab8f608   \n",
              "8  6514b8ad8028c9f2cc2374ded245783f  9bdf08b4b3b52b5526ff42d37d47f222   \n",
              "9  76c6e866289321a7c93b82b54852dc33  f54a9f0e6b351c431402b8461ea51999   \n",
              "\n",
              "  order_status order_purchase_timestamp   order_approved_at  \\\n",
              "0    delivered      2017-10-02 10:56:33 2017-10-02 11:07:15   \n",
              "1    delivered      2017-10-02 10:56:33 2017-10-02 11:07:15   \n",
              "2    delivered      2017-10-02 10:56:33 2017-10-02 11:07:15   \n",
              "3    delivered      2018-07-24 20:41:37 2018-07-26 03:24:27   \n",
              "4    delivered      2018-08-08 08:38:49 2018-08-08 08:55:23   \n",
              "5    delivered      2017-11-18 19:28:06 2017-11-18 19:45:59   \n",
              "6    delivered      2018-02-13 21:18:39 2018-02-13 22:20:29   \n",
              "7    delivered      2017-07-09 21:57:05 2017-07-09 22:10:13   \n",
              "8    delivered      2017-05-16 13:10:30 2017-05-16 13:22:11   \n",
              "9    delivered      2017-01-23 18:29:09 2017-01-25 02:50:47   \n",
              "\n",
              "  order_delivered_carrier_date order_delivered_customer_date  \\\n",
              "0          2017-10-04 19:55:00           2017-10-10 21:25:13   \n",
              "1          2017-10-04 19:55:00           2017-10-10 21:25:13   \n",
              "2          2017-10-04 19:55:00           2017-10-10 21:25:13   \n",
              "3          2018-07-26 14:31:00           2018-08-07 15:27:45   \n",
              "4          2018-08-08 13:50:00           2018-08-17 18:06:29   \n",
              "5          2017-11-22 13:39:59           2017-12-02 00:28:42   \n",
              "6          2018-02-14 19:46:34           2018-02-16 18:17:02   \n",
              "7          2017-07-11 14:58:04           2017-07-26 10:57:55   \n",
              "8          2017-05-22 10:07:46           2017-05-26 12:55:51   \n",
              "9          2017-01-26 14:16:31           2017-02-02 14:08:10   \n",
              "\n",
              "  order_estimated_delivery_date                customer_unique_id  \\\n",
              "0                    2017-10-18  7c396fd4830fd04220f754e42b4e5bff   \n",
              "1                    2017-10-18  7c396fd4830fd04220f754e42b4e5bff   \n",
              "2                    2017-10-18  7c396fd4830fd04220f754e42b4e5bff   \n",
              "3                    2018-08-13  af07308b275d755c9edb36a90c618231   \n",
              "4                    2018-09-04  3a653a41f6f9fc3d2a113cf8398680e8   \n",
              "5                    2017-12-15  7c142cf63193a1473d2e66489a9ae977   \n",
              "6                    2018-02-26  72632f0f9dd73dfee390c9b22eb56dd6   \n",
              "7                    2017-08-01  80bb27c7c16e8f973207a5086ab329e2   \n",
              "8                    2017-06-07  932afa1e708222e5821dac9cd5db4cae   \n",
              "9                    2017-03-06  39382392765b6dc74812866ee5ee92a7   \n",
              "\n",
              "   customer_zip_code_prefix            customer_city customer_state  \\\n",
              "0                      3149                sao paulo             SP   \n",
              "1                      3149                sao paulo             SP   \n",
              "2                      3149                sao paulo             SP   \n",
              "3                     47813                barreiras             BA   \n",
              "4                     75265               vianopolis             GO   \n",
              "5                     59296  sao goncalo do amarante             RN   \n",
              "6                      9195              santo andre             SP   \n",
              "7                     86320             congonhinhas             PR   \n",
              "8                     26525                nilopolis             RJ   \n",
              "9                     99655             faxinalzinho             RS   \n",
              "\n",
              "                          review_id  review_score review_creation_date  \\\n",
              "0  a54f0611adc9ed256b57ede6b6eb5114             4           2017-10-11   \n",
              "1  a54f0611adc9ed256b57ede6b6eb5114             4           2017-10-11   \n",
              "2  a54f0611adc9ed256b57ede6b6eb5114             4           2017-10-11   \n",
              "3  8d5266042046a06655c8db133d120ba5             4           2018-08-08   \n",
              "4  e73b67b67587f7644d5bd1a52deb1b01             5           2018-08-18   \n",
              "5  359d03e676b3c069f62cadba8dd3f6e8             5           2017-12-03   \n",
              "6  e50934924e227544ba8246aeb3770dd4             5           2018-02-17   \n",
              "7  89b738e70a1ce346db29a20fb2910161             4           2017-07-27   \n",
              "8  07d67dd06ed5f88bef11ef6b464e79ae             5           2017-05-27   \n",
              "9  fc4af8aea8ec3f1a3cd181d3d0cadbd5             1           2017-02-03   \n",
              "\n",
              "  review_answer_timestamp  payment_installments  payment_value  order_item_id  \\\n",
              "0     2017-10-12 03:43:48                     1          18.12              1   \n",
              "1     2017-10-12 03:43:48                     1           2.00              1   \n",
              "2     2017-10-12 03:43:48                     1          18.59              1   \n",
              "3     2018-08-08 18:37:50                     1         141.46              1   \n",
              "4     2018-08-22 19:07:58                     3         179.12              1   \n",
              "5     2017-12-05 19:21:58                     1          72.20              1   \n",
              "6     2018-02-18 13:02:51                     1          28.62              1   \n",
              "7     2017-07-27 22:48:30                     6         175.26              1   \n",
              "8     2017-05-28 02:59:57                     3          75.16              1   \n",
              "9     2017-02-05 01:58:35                     1          35.95              1   \n",
              "\n",
              "                         product_id                         seller_id  \\\n",
              "0  87285b34884572647811a353c7ac498a  3504c0cb71d7fa48d967e0e4c94d59d9   \n",
              "1  87285b34884572647811a353c7ac498a  3504c0cb71d7fa48d967e0e4c94d59d9   \n",
              "2  87285b34884572647811a353c7ac498a  3504c0cb71d7fa48d967e0e4c94d59d9   \n",
              "3  595fac2a385ac33a80bd5114aec74eb8  289cdb325fb7e7f891c38608bf9e0962   \n",
              "4  aa4383b373c6aca5d8797843e5594415  4869f7a5dfa277a7dca6462dcf3b52b2   \n",
              "5  d0b61bfb1de832b15ba9d266ca96e5b0  66922902710d126a0e7d26b0e3805106   \n",
              "6  65266b2da20d04dbe00c5c2d3bb7859e  2c9e548be18521d1c43cde1c582c6de8   \n",
              "7  060cb19345d90064d1015407193c233d  8581055ce74af1daba164fdbd55a40de   \n",
              "8  4520766ec412348b8d4caa5e8a18c464  16090f2ca825584b5a147ab24aa30c86   \n",
              "9  ac1789e492dcd698c5c10b97a671243a  63b9ae557efed31d1f7687917d248a8d   \n",
              "\n",
              "  shipping_limit_date   price product_category_name_english  \n",
              "0 2017-10-06 11:07:15   29.99                    housewares  \n",
              "1 2017-10-06 11:07:15   29.99                    housewares  \n",
              "2 2017-10-06 11:07:15   29.99                    housewares  \n",
              "3 2018-07-30 03:24:27  118.70                     perfumery  \n",
              "4 2018-08-13 08:55:23  159.90                          auto  \n",
              "5 2017-11-23 19:45:59   45.00                      pet_shop  \n",
              "6 2018-02-19 20:31:37   19.90                    stationery  \n",
              "7 2017-07-13 22:10:13  147.90                          auto  \n",
              "8 2017-05-22 13:22:11   59.99                          auto  \n",
              "9 2017-01-27 18:29:09   19.90               furniture_decor  "
            ]
          },
          "execution_count": 37,
          "metadata": {},
          "output_type": "execute_result"
        }
      ],
      "source": [
        "df_olist_complet.head(10)"
      ]
    },
    {
      "cell_type": "code",
      "execution_count": null,
      "id": "174b8c60-54c7-49d5-862d-92c891399ca8",
      "metadata": {
        "id": "174b8c60-54c7-49d5-862d-92c891399ca8",
        "outputId": "abd32981-f8f6-407c-dcbe-ffdc93fccce1"
      },
      "outputs": [
        {
          "name": "stdout",
          "output_type": "stream",
          "text": [
            "<class 'pandas.core.frame.DataFrame'>\n",
            "Int64Index: 115609 entries, 0 to 115608\n",
            "Data columns (total 24 columns):\n",
            " #   Column                         Non-Null Count   Dtype         \n",
            "---  ------                         --------------   -----         \n",
            " 0   order_id                       115609 non-null  object        \n",
            " 1   customer_id                    115609 non-null  object        \n",
            " 2   order_status                   115609 non-null  object        \n",
            " 3   order_purchase_timestamp       115609 non-null  datetime64[ns]\n",
            " 4   order_approved_at              115595 non-null  datetime64[ns]\n",
            " 5   order_delivered_carrier_date   114414 non-null  datetime64[ns]\n",
            " 6   order_delivered_customer_date  113209 non-null  datetime64[ns]\n",
            " 7   order_estimated_delivery_date  115609 non-null  datetime64[ns]\n",
            " 8   customer_unique_id             115609 non-null  object        \n",
            " 9   customer_zip_code_prefix       115609 non-null  int64         \n",
            " 10  customer_city                  115609 non-null  object        \n",
            " 11  customer_state                 115609 non-null  object        \n",
            " 12  review_id                      115609 non-null  object        \n",
            " 13  review_score                   115609 non-null  int64         \n",
            " 14  review_creation_date           115609 non-null  datetime64[ns]\n",
            " 15  review_answer_timestamp        115609 non-null  datetime64[ns]\n",
            " 16  payment_installments           115609 non-null  int64         \n",
            " 17  payment_value                  115609 non-null  float64       \n",
            " 18  order_item_id                  115609 non-null  int64         \n",
            " 19  product_id                     115609 non-null  object        \n",
            " 20  seller_id                      115609 non-null  object        \n",
            " 21  shipping_limit_date            115609 non-null  datetime64[ns]\n",
            " 22  price                          115609 non-null  float64       \n",
            " 23  product_category_name_english  115609 non-null  object        \n",
            "dtypes: datetime64[ns](8), float64(2), int64(4), object(10)\n",
            "memory usage: 22.1+ MB\n"
          ]
        }
      ],
      "source": [
        "df_olist_complet.info()"
      ]
    },
    {
      "cell_type": "markdown",
      "id": "e0dd8b59-31f9-403d-ab04-ed98bf5a3262",
      "metadata": {
        "id": "e0dd8b59-31f9-403d-ab04-ed98bf5a3262"
      },
      "source": [
        "### Exploration dartaset complet"
      ]
    },
    {
      "cell_type": "markdown",
      "id": "229461d7-eb7e-43bc-9bad-54cb5bd97642",
      "metadata": {
        "tags": [],
        "id": "229461d7-eb7e-43bc-9bad-54cb5bd97642"
      },
      "source": [
        "#### variables temporelles"
      ]
    },
    {
      "cell_type": "code",
      "execution_count": null,
      "id": "a9a7cd7a",
      "metadata": {
        "id": "a9a7cd7a"
      },
      "outputs": [],
      "source": [
        "df_olist_complet_initial = df_olist_complet.copy()"
      ]
    },
    {
      "cell_type": "code",
      "execution_count": null,
      "id": "4b65003e",
      "metadata": {
        "id": "4b65003e",
        "outputId": "0491bd5c-b51b-44f4-afde-470098053a2b"
      },
      "outputs": [
        {
          "data": {
            "text/plain": [
              "Timestamp('2016-09-04 21:15:19')"
            ]
          },
          "execution_count": 40,
          "metadata": {},
          "output_type": "execute_result"
        }
      ],
      "source": [
        "df_olist_complet[\"order_purchase_timestamp\"].min()"
      ]
    },
    {
      "cell_type": "code",
      "execution_count": null,
      "id": "fab8c1f5",
      "metadata": {
        "id": "fab8c1f5",
        "outputId": "dad76788-c17a-4497-be17-26e7fec09305"
      },
      "outputs": [
        {
          "data": {
            "text/plain": [
              "Timestamp('2018-09-03 09:06:57')"
            ]
          },
          "execution_count": 41,
          "metadata": {},
          "output_type": "execute_result"
        }
      ],
      "source": [
        "df_olist_complet[\"order_purchase_timestamp\"].max()"
      ]
    },
    {
      "cell_type": "code",
      "execution_count": null,
      "id": "75c59031-8add-4e00-9b61-00cbded87336",
      "metadata": {
        "id": "75c59031-8add-4e00-9b61-00cbded87336",
        "outputId": "b5b238ec-71ee-40e2-c657-e25f0cde02d1"
      },
      "outputs": [
        {
          "data": {
            "text/plain": [
              "<matplotlib.collections.PathCollection at 0x1425841bb80>"
            ]
          },
          "execution_count": 42,
          "metadata": {},
          "output_type": "execute_result"
        },
        {
          "data": {
            "image/png": "[encoded data removed]",
            "text/plain": [
              "<Figure size 576x396 with 1 Axes>"
            ]
          },
          "metadata": {},
          "output_type": "display_data"
        }
      ],
      "source": [
        "plt.scatter(\n",
        "    df_olist_complet[\"order_purchase_timestamp\"],\n",
        "    y=np.linspace(1, 1, len(df_olist_complet[\"order_purchase_timestamp\"])),\n",
        ")"
      ]
    },
    {
      "cell_type": "code",
      "execution_count": null,
      "id": "f80ebdb4-b7ad-4364-a85b-a21712cde9a1",
      "metadata": {
        "id": "f80ebdb4-b7ad-4364-a85b-a21712cde9a1",
        "outputId": "cd84e6c4-fa75-4d81-c2be-1da3bb177379"
      },
      "outputs": [
        {
          "data": {
            "text/plain": [
              "<matplotlib.collections.PathCollection at 0x1425043e3d0>"
            ]
          },
          "execution_count": 43,
          "metadata": {},
          "output_type": "execute_result"
        },
        {
          "data": {
            "image/png": "[encoded data removed]",
            "text/plain": [
              "<Figure size 576x396 with 1 Axes>"
            ]
          },
          "metadata": {},
          "output_type": "display_data"
        }
      ],
      "source": [
        "plt.scatter(\n",
        "    df_olist_complet[\"order_approved_at\"],\n",
        "    y=np.linspace(1, 1, len(df_olist_complet[\"order_approved_at\"])),\n",
        ")"
      ]
    },
    {
      "cell_type": "markdown",
      "id": "438470c0-1e13-448f-b6b5-da55d90f037c",
      "metadata": {
        "id": "438470c0-1e13-448f-b6b5-da55d90f037c"
      },
      "source": [
        "Il y a un arret entre fin 2016 et  debut 2017, surement dû à un arret temporaire de l'entreprise, pour supprimer ce gap et eviter un clustering sur ce gap nous augmenterons toutes les variables temporelles liées à des commandes des valeurs d'avant le gap de la durée de ce gap"
      ]
    },
    {
      "cell_type": "code",
      "execution_count": null,
      "id": "e9df173f-9a6d-4a9b-a012-ce67b1ab8bc4",
      "metadata": {
        "id": "e9df173f-9a6d-4a9b-a012-ce67b1ab8bc4",
        "outputId": "485fa61d-1162-47d2-e574-8cfdd988f01f"
      },
      "outputs": [
        {
          "data": {
            "text/plain": [
              "5217     2016-09-04 21:15:19\n",
              "5216     2016-09-04 21:15:19\n",
              "5058     2016-09-05 00:15:34\n",
              "96475    2016-10-02 22:07:52\n",
              "108435   2016-10-03 09:44:50\n",
              "33138    2016-10-03 16:56:50\n",
              "107668   2016-10-03 21:01:41\n",
              "113847   2016-10-03 21:13:36\n",
              "102752   2016-10-03 22:06:03\n",
              "7793     2016-10-03 22:31:31\n",
              "72079    2016-10-03 22:44:10\n",
              "39066    2016-10-03 22:51:30\n",
              "74316    2016-10-04 09:16:33\n",
              "77850    2016-10-04 09:59:03\n",
              "41800    2016-10-04 10:16:04\n",
              "86170    2016-10-04 10:41:17\n",
              "9799     2016-10-04 11:03:14\n",
              "37394    2016-10-04 12:06:11\n",
              "18962    2016-10-04 12:53:17\n",
              "91504    2016-10-04 13:02:10\n",
              "68592    2016-10-04 13:11:29\n",
              "68593    2016-10-04 13:11:29\n",
              "28811    2016-10-04 13:15:46\n",
              "98426    2016-10-04 13:15:52\n",
              "97839    2016-10-04 13:16:57\n",
              "113344   2016-10-04 13:22:56\n",
              "113345   2016-10-04 13:22:56\n",
              "113346   2016-10-04 13:22:56\n",
              "113343   2016-10-04 13:22:56\n",
              "113342   2016-10-04 13:22:56\n",
              "113341   2016-10-04 13:22:56\n",
              "113340   2016-10-04 13:22:56\n",
              "66153    2016-10-04 13:30:13\n",
              "28178    2016-10-04 13:38:37\n",
              "96176    2016-10-04 13:40:43\n",
              "76514    2016-10-04 13:45:08\n",
              "1622     2016-10-04 14:13:22\n",
              "98351    2016-10-04 14:23:50\n",
              "94511    2016-10-04 14:44:33\n",
              "100088   2016-10-04 14:49:13\n",
              "103475   2016-10-04 14:51:15\n",
              "21526    2016-10-04 15:02:37\n",
              "73685    2016-10-04 15:02:53\n",
              "73684    2016-10-04 15:02:53\n",
              "5587     2016-10-04 15:07:21\n",
              "37734    2016-10-04 15:10:15\n",
              "44478    2016-10-04 15:12:18\n",
              "95058    2016-10-04 15:35:35\n",
              "15259    2016-10-04 15:44:44\n",
              "31961    2016-10-04 16:02:18\n",
              "49259    2016-10-04 16:05:29\n",
              "68077    2016-10-04 16:08:52\n",
              "38267    2016-10-04 16:28:25\n",
              "76810    2016-10-04 16:40:07\n",
              "47359    2016-10-04 16:41:59\n",
              "47358    2016-10-04 16:41:59\n",
              "109354   2016-10-04 17:08:39\n",
              "81469    2016-10-04 17:25:09\n",
              "81470    2016-10-04 17:25:09\n",
              "27877    2016-10-04 18:02:37\n",
              "75323    2016-10-04 18:07:24\n",
              "62025    2016-10-04 18:52:56\n",
              "63904    2016-10-04 19:01:13\n",
              "32354    2016-10-04 19:25:29\n",
              "65231    2016-10-04 19:30:28\n",
              "114277   2016-10-04 19:41:52\n",
              "50722    2016-10-04 20:41:45\n",
              "85656    2016-10-04 20:41:55\n",
              "100465   2016-10-04 21:25:32\n",
              "22485    2016-10-04 21:32:35\n",
              "15091    2016-10-04 21:35:54\n",
              "83445    2016-10-04 21:54:52\n",
              "66777    2016-10-04 22:03:46\n",
              "66776    2016-10-04 22:03:46\n",
              "78603    2016-10-04 22:15:11\n",
              "19373    2016-10-04 22:33:44\n",
              "19374    2016-10-04 22:33:44\n",
              "105933   2016-10-04 22:43:33\n",
              "66638    2016-10-04 23:08:08\n",
              "66637    2016-10-04 23:08:08\n",
              "106915   2016-10-04 23:26:51\n",
              "35070    2016-10-04 23:39:01\n",
              "58966    2016-10-04 23:45:54\n",
              "103425   2016-10-04 23:59:01\n",
              "103424   2016-10-04 23:59:01\n",
              "103426   2016-10-04 23:59:01\n",
              "103423   2016-10-04 23:59:01\n",
              "56529    2016-10-05 00:32:31\n",
              "440      2016-10-05 07:31:49\n",
              "24502    2016-10-05 08:01:47\n",
              "37386    2016-10-05 08:04:21\n",
              "37387    2016-10-05 08:04:21\n",
              "37388    2016-10-05 08:04:21\n",
              "30613    2016-10-05 08:41:18\n",
              "110540   2016-10-05 08:46:55\n",
              "105249   2016-10-05 09:19:46\n",
              "32240    2016-10-05 09:46:43\n",
              "66544    2016-10-05 11:01:40\n",
              "114005   2016-10-05 11:05:52\n",
              "60855    2016-10-05 11:08:46\n",
              "36089    2016-10-05 11:44:41\n",
              "101699   2016-10-05 11:54:15\n",
              "100449   2016-10-05 12:32:55\n",
              "100448   2016-10-05 12:32:55\n",
              "25167    2016-10-05 12:34:04\n",
              "19307    2016-10-05 12:41:38\n",
              "19308    2016-10-05 12:41:38\n",
              "19305    2016-10-05 12:41:38\n",
              "19304    2016-10-05 12:41:38\n",
              "19309    2016-10-05 12:41:38\n",
              "19306    2016-10-05 12:41:38\n",
              "4366     2016-10-05 12:44:09\n",
              "2729     2016-10-05 13:12:43\n",
              "2730     2016-10-05 13:12:43\n",
              "38653    2016-10-05 14:16:28\n",
              "26683    2016-10-05 14:36:55\n",
              "26684    2016-10-05 14:36:55\n",
              "93215    2016-10-05 14:40:44\n",
              "37255    2016-10-05 14:49:49\n",
              "823      2016-10-05 15:08:00\n",
              "5190     2016-10-05 15:17:57\n",
              "111238   2016-10-05 17:09:07\n",
              "111241   2016-10-05 17:09:07\n",
              "111240   2016-10-05 17:09:07\n",
              "111239   2016-10-05 17:09:07\n",
              "3611     2016-10-05 17:11:49\n",
              "51238    2016-10-05 17:14:27\n",
              "86893    2016-10-05 17:16:17\n",
              "97132    2016-10-05 17:21:29\n",
              "97131    2016-10-05 17:21:29\n",
              "96735    2016-10-05 19:09:33\n",
              "96737    2016-10-05 19:09:33\n",
              "96734    2016-10-05 19:09:33\n",
              "96733    2016-10-05 19:09:33\n",
              "96736    2016-10-05 19:09:33\n",
              "63543    2016-10-05 20:09:05\n",
              "87111    2016-10-05 20:20:57\n",
              "56071    2016-10-05 20:36:39\n",
              "5291     2016-10-05 21:10:56\n",
              "92603    2016-10-05 22:24:40\n",
              "5146     2016-10-05 22:39:46\n",
              "376      2016-10-05 22:44:13\n",
              "84397    2016-10-05 22:49:57\n",
              "41732    2016-10-05 22:53:45\n",
              "58049    2016-10-05 23:14:34\n",
              "51180    2016-10-06 00:06:17\n",
              "93183    2016-10-06 00:12:47\n",
              "9171     2016-10-06 02:53:39\n",
              "61219    2016-10-06 07:08:15\n",
              "61220    2016-10-06 07:08:15\n",
              "90354    2016-10-06 07:53:10\n",
              "24065    2016-10-06 08:28:19\n",
              "70968    2016-10-06 08:58:04\n",
              "70967    2016-10-06 08:58:04\n",
              "71679    2016-10-06 09:07:52\n",
              "14624    2016-10-06 09:22:35\n",
              "45211    2016-10-06 09:59:13\n",
              "23513    2016-10-06 10:12:12\n",
              "52004    2016-10-06 10:13:53\n",
              "81197    2016-10-06 10:47:15\n",
              "81196    2016-10-06 10:47:15\n",
              "6020     2016-10-06 11:05:43\n",
              "23962    2016-10-06 11:32:00\n",
              "13357    2016-10-06 12:21:47\n",
              "12172    2016-10-06 12:22:07\n",
              "15772    2016-10-06 12:23:07\n",
              "15774    2016-10-06 12:23:07\n",
              "15771    2016-10-06 12:23:07\n",
              "15773    2016-10-06 12:23:07\n",
              "15847    2016-10-06 12:51:54\n",
              "62796    2016-10-06 13:02:32\n",
              "110508   2016-10-06 13:07:13\n",
              "54032    2016-10-06 13:16:56\n",
              "62662    2016-10-06 13:24:15\n",
              "72490    2016-10-06 13:38:39\n",
              "32910    2016-10-06 13:39:20\n",
              "57202    2016-10-06 14:36:59\n",
              "36941    2016-10-06 14:59:56\n",
              "36940    2016-10-06 14:59:56\n",
              "58939    2016-10-06 15:14:09\n",
              "30789    2016-10-06 15:19:40\n",
              "30788    2016-10-06 15:19:40\n",
              "103040   2016-10-06 16:13:30\n",
              "110442   2016-10-06 16:17:56\n",
              "71220    2016-10-06 16:34:16\n",
              "76459    2016-10-06 16:43:26\n",
              "37201    2016-10-06 17:10:05\n",
              "15949    2016-10-06 17:42:49\n",
              "33537    2016-10-06 17:45:30\n",
              "68762    2016-10-06 18:03:01\n",
              "115425   2016-10-06 18:11:11\n",
              "84351    2016-10-06 18:50:25\n",
              "84350    2016-10-06 18:50:25\n",
              "100455   2016-10-06 19:33:34\n",
              "42876    2016-10-06 19:38:12\n",
              "8641     2016-10-06 20:05:04\n",
              "32055    2016-10-06 20:06:26\n",
              "6682     2016-10-06 20:15:20\n",
              "50976    2016-10-06 22:00:27\n",
              "45306    2016-10-06 22:23:25\n",
              "82066    2016-10-06 22:34:03\n",
              "90475    2016-10-06 23:21:10\n",
              "58910    2016-10-06 23:49:18\n",
              "1702     2016-10-07 00:54:40\n",
              "1701     2016-10-07 00:54:40\n",
              "1700     2016-10-07 00:54:40\n",
              "65722    2016-10-07 02:41:42\n",
              "112581   2016-10-07 08:28:29\n",
              "112167   2016-10-07 08:28:42\n",
              "97151    2016-10-07 08:49:03\n",
              "30992    2016-10-07 09:33:06\n",
              "75160    2016-10-07 09:41:02\n",
              "58023    2016-10-07 10:05:16\n",
              "74169    2016-10-07 10:06:58\n",
              "5334     2016-10-07 10:11:42\n",
              "82337    2016-10-07 10:18:50\n",
              "111163   2016-10-07 10:28:56\n",
              "84950    2016-10-07 10:44:21\n",
              "38556    2016-10-07 10:45:48\n",
              "98755    2016-10-07 10:46:03\n",
              "103923   2016-10-07 10:57:46\n",
              "107386   2016-10-07 11:20:34\n",
              "107387   2016-10-07 11:20:34\n",
              "107385   2016-10-07 11:20:34\n",
              "24998    2016-10-07 11:33:35\n",
              "41326    2016-10-07 11:37:12\n",
              "15613    2016-10-07 12:06:30\n",
              "74471    2016-10-07 14:15:50\n",
              "71601    2016-10-07 14:40:45\n",
              "18995    2016-10-07 14:42:07\n",
              "58496    2016-10-07 14:42:24\n",
              "67636    2016-10-07 14:52:30\n",
              "7295     2016-10-07 15:12:40\n",
              "56181    2016-10-07 16:50:52\n",
              "7877     2016-10-07 16:56:35\n",
              "7878     2016-10-07 16:56:35\n",
              "82642    2016-10-07 17:09:56\n",
              "101088   2016-10-07 17:13:42\n",
              "79651    2016-10-07 17:37:49\n",
              "92035    2016-10-07 18:16:31\n",
              "104275   2016-10-07 19:02:48\n",
              "17839    2016-10-07 19:16:49\n",
              "22694    2016-10-07 19:17:00\n",
              "16651    2016-10-07 21:19:32\n",
              "46123    2016-10-07 21:30:12\n",
              "46122    2016-10-07 21:30:12\n",
              "28487    2016-10-07 21:50:26\n",
              "115381   2016-10-07 22:35:59\n",
              "40237    2016-10-07 22:45:28\n",
              "40236    2016-10-07 22:45:28\n",
              "91375    2016-10-07 22:46:51\n",
              "14818    2016-10-07 22:51:32\n",
              "79995    2016-10-07 23:18:38\n",
              "86169    2016-10-08 01:28:14\n",
              "62177    2016-10-08 02:18:43\n",
              "71929    2016-10-08 04:01:53\n",
              "51858    2016-10-08 08:05:21\n",
              "51859    2016-10-08 08:05:21\n",
              "51860    2016-10-08 08:05:21\n",
              "6928     2016-10-08 08:25:32\n",
              "21371    2016-10-08 09:50:08\n",
              "33139    2016-10-08 09:55:44\n",
              "78242    2016-10-08 10:07:25\n",
              "72882    2016-10-08 10:26:41\n",
              "54002    2016-10-08 10:31:00\n",
              "93670    2016-10-08 10:55:44\n",
              "69299    2016-10-08 11:33:25\n",
              "69300    2016-10-08 11:33:25\n",
              "93939    2016-10-08 11:47:15\n",
              "43548    2016-10-08 11:50:02\n",
              "70545    2016-10-08 12:13:38\n",
              "7220     2016-10-08 13:54:03\n",
              "64152    2016-10-08 14:31:26\n",
              "90799    2016-10-08 14:48:08\n",
              "114471   2016-10-08 15:02:10\n",
              "24813    2016-10-08 15:36:50\n",
              "24812    2016-10-08 15:36:50\n",
              "73328    2016-10-08 15:42:14\n",
              "73327    2016-10-08 15:42:14\n",
              "16846    2016-10-08 15:47:56\n",
              "9946     2016-10-08 16:02:07\n",
              "91770    2016-10-08 17:43:25\n",
              "91771    2016-10-08 17:43:25\n",
              "32576    2016-10-08 17:43:26\n",
              "59506    2016-10-08 18:39:08\n",
              "39526    2016-10-08 18:45:34\n",
              "80338    2016-10-08 20:02:32\n",
              "110463   2016-10-08 20:16:05\n",
              "68863    2016-10-08 20:17:50\n",
              "57562    2016-10-08 20:28:48\n",
              "96980    2016-10-08 21:04:27\n",
              "99192    2016-10-08 21:37:30\n",
              "33651    2016-10-08 21:58:32\n",
              "11929    2016-10-08 22:06:28\n",
              "83494    2016-10-08 22:11:57\n",
              "41813    2016-10-08 22:34:11\n",
              "81875    2016-10-08 22:41:36\n",
              "52978    2016-10-08 23:46:06\n",
              "10171    2016-10-09 00:56:52\n",
              "10172    2016-10-09 00:56:52\n",
              "96527    2016-10-09 10:34:58\n",
              "66199    2016-10-09 11:23:21\n",
              "66198    2016-10-09 11:23:21\n",
              "79672    2016-10-09 11:33:12\n",
              "79671    2016-10-09 11:33:12\n",
              "77578    2016-10-09 11:43:43\n",
              "109786   2016-10-09 12:13:58\n",
              "62602    2016-10-09 12:34:53\n",
              "49676    2016-10-09 12:43:21\n",
              "32999    2016-10-09 12:46:25\n",
              "11627    2016-10-09 13:31:57\n",
              "84274    2016-10-09 13:57:42\n",
              "115132   2016-10-09 15:10:41\n",
              "109763   2016-10-09 15:39:56\n",
              "23045    2016-10-09 22:31:44\n",
              "80804    2016-10-09 22:34:11\n",
              "56604    2016-10-09 22:36:25\n",
              "56601    2016-10-09 22:36:25\n",
              "56603    2016-10-09 22:36:25\n",
              "56602    2016-10-09 22:36:25\n",
              "56600    2016-10-09 22:36:25\n",
              "56599    2016-10-09 22:36:25\n",
              "8975     2016-10-09 22:36:44\n",
              "43331    2016-10-09 22:36:49\n",
              "108415   2016-10-09 22:38:35\n",
              "87585    2016-10-09 22:38:37\n",
              "61873    2016-10-09 22:42:35\n",
              "61874    2016-10-09 22:42:35\n",
              "19396    2016-10-09 22:44:21\n",
              "113750   2016-10-09 23:25:13\n",
              "113749   2016-10-09 23:25:13\n",
              "19718    2016-10-09 23:38:19\n",
              "96362    2016-10-09 23:50:37\n",
              "12014    2016-10-09 23:55:30\n",
              "8561     2016-10-10 00:01:50\n",
              "75847    2016-10-10 02:17:55\n",
              "84279    2016-10-10 04:31:17\n",
              "103593   2016-10-10 04:49:29\n",
              "8399     2016-10-10 07:03:07\n",
              "20129    2016-10-10 07:53:34\n",
              "113065   2016-10-10 08:36:05\n",
              "87127    2016-10-10 09:23:48\n",
              "47513    2016-10-10 09:57:05\n",
              "42116    2016-10-10 09:59:46\n",
              "79588    2016-10-10 10:20:13\n",
              "113487   2016-10-10 10:22:55\n",
              "106504   2016-10-10 10:28:51\n",
              "5518     2016-10-10 11:08:53\n",
              "43045    2016-10-10 11:17:11\n",
              "34407    2016-10-10 11:22:36\n",
              "45176    2016-10-10 11:39:06\n",
              "45177    2016-10-10 11:39:06\n",
              "28419    2016-10-10 12:39:06\n",
              "78015    2016-10-10 12:54:37\n",
              "88503    2016-10-10 12:54:46\n",
              "93374    2016-10-10 13:57:41\n",
              "83515    2016-10-10 14:02:01\n",
              "59161    2016-10-10 14:20:38\n",
              "28740    2016-10-10 15:20:14\n",
              "38090    2016-10-10 15:23:51\n",
              "93009    2016-10-10 15:37:12\n",
              "61301    2016-10-10 15:49:59\n",
              "61305    2016-10-10 15:49:59\n",
              "61304    2016-10-10 15:49:59\n",
              "61303    2016-10-10 15:49:59\n",
              "61302    2016-10-10 15:49:59\n",
              "61306    2016-10-10 15:49:59\n",
              "108919   2016-10-10 15:50:01\n",
              "108918   2016-10-10 15:50:01\n",
              "79862    2016-10-10 16:00:30\n",
              "94712    2016-10-10 16:00:33\n",
              "20746    2016-10-10 16:39:37\n",
              "36391    2016-10-10 16:55:10\n",
              "53548    2016-10-10 17:16:03\n",
              "12198    2016-10-10 17:49:21\n",
              "12199    2016-10-10 17:49:21\n",
              "23311    2016-10-10 18:05:54\n",
              "26867    2016-10-10 18:09:39\n",
              "26865    2016-10-10 18:09:39\n",
              "26866    2016-10-10 18:09:39\n",
              "46284    2016-12-23 23:16:47\n",
              "91434    2017-01-05 11:56:06\n",
              "18794    2017-01-05 12:01:20\n",
              "86679    2017-01-05 12:06:36\n",
              "17784    2017-01-05 12:09:08\n",
              "31463    2017-01-05 12:11:23\n",
              "57810    2017-01-05 12:14:58\n",
              "98859    2017-01-05 13:01:48\n",
              "11791    2017-01-05 13:29:03\n",
              "11861    2017-01-05 13:31:22\n",
              "76178    2017-01-05 13:33:45\n",
              "277      2017-01-05 13:34:35\n",
              "111420   2017-01-05 13:36:07\n",
              "102365   2017-01-05 13:36:41\n",
              "38445    2017-01-05 13:37:27\n",
              "84482    2017-01-05 13:43:17\n",
              "42613    2017-01-05 13:48:48\n",
              "84546    2017-01-05 13:52:39\n",
              "38917    2017-01-05 13:59:30\n",
              "95714    2017-01-05 14:18:03\n",
              "5422     2017-01-05 14:22:02\n",
              "94596    2017-01-05 14:23:54\n",
              "48469    2017-01-05 14:33:39\n",
              "91186    2017-01-05 14:36:18\n",
              "31163    2017-01-05 14:42:02\n",
              "41743    2017-01-05 14:50:54\n",
              "32690    2017-01-05 15:25:04\n",
              "1092     2017-01-05 15:25:10\n",
              "70739    2017-01-05 15:32:59\n",
              "68222    2017-01-05 15:37:58\n",
              "2938     2017-01-05 16:05:07\n",
              "7505     2017-01-05 19:52:28\n",
              "6932     2017-01-05 22:52:33\n",
              "27979    2017-01-06 13:43:16\n",
              "109872   2017-01-06 21:27:49\n",
              "106664   2017-01-06 21:30:38\n",
              "85504    2017-01-06 23:31:23\n",
              "85503    2017-01-06 23:31:23\n",
              "85502    2017-01-06 23:31:23\n",
              "85501    2017-01-06 23:31:23\n",
              "85505    2017-01-06 23:31:23\n",
              "50897    2017-01-07 00:34:47\n",
              "57056    2017-01-07 13:29:22\n",
              "14208    2017-01-07 17:20:56\n",
              "14209    2017-01-07 17:20:56\n",
              "99474    2017-01-07 20:45:31\n",
              "79187    2017-01-08 09:35:07\n",
              "58824    2017-01-08 09:35:14\n",
              "14761    2017-01-08 19:27:22\n",
              "110410   2017-01-08 19:27:22\n",
              "93289    2017-01-08 20:25:12\n",
              "83721    2017-01-08 20:57:29\n",
              "71787    2017-01-09 00:37:18\n",
              "71788    2017-01-09 00:37:18\n",
              "102248   2017-01-09 14:04:26\n",
              "109928   2017-01-09 17:50:06\n",
              "53182    2017-01-09 21:31:15\n",
              "81331    2017-01-09 21:40:42\n",
              "38498    2017-01-10 13:58:33\n",
              "104879   2017-01-10 14:08:07\n",
              "72439    2017-01-10 16:31:22\n",
              "72849    2017-01-10 17:18:09\n",
              "110943   2017-01-10 19:43:30\n",
              "98563    2017-01-10 22:23:11\n",
              "10384    2017-01-11 00:13:51\n",
              "56303    2017-01-11 10:24:36\n",
              "88099    2017-01-11 11:21:23\n",
              "41771    2017-01-11 11:34:58\n",
              "99736    2017-01-11 12:49:53\n",
              "52522    2017-01-11 15:18:25\n",
              "105843   2017-01-11 15:56:35\n",
              "68984    2017-01-11 18:32:24\n",
              "39021    2017-01-11 19:21:04\n",
              "16151    2017-01-11 20:12:38\n",
              "15313    2017-01-11 22:36:59\n",
              "57634    2017-01-11 23:32:55\n",
              "14520    2017-01-12 00:06:12\n",
              "25887    2017-01-12 09:45:32\n",
              "49987    2017-01-12 12:01:14\n",
              "56913    2017-01-12 12:46:35\n",
              "87305    2017-01-12 13:11:45\n",
              "67870    2017-01-12 15:05:52\n",
              "56772    2017-01-12 15:58:39\n",
              "56773    2017-01-12 15:58:39\n",
              "59706    2017-01-12 18:30:07\n",
              "12254    2017-01-12 20:06:50\n",
              "68647    2017-01-12 20:28:10\n",
              "68648    2017-01-12 20:28:10\n",
              "68371    2017-01-12 22:24:48\n",
              "87079    2017-01-12 23:11:07\n",
              "2061     2017-01-12 23:42:50\n",
              "55733    2017-01-13 00:14:27\n",
              "93101    2017-01-13 09:02:32\n",
              "3405     2017-01-13 11:06:56\n",
              "61946    2017-01-13 15:11:16\n",
              "12094    2017-01-13 15:11:52\n",
              "35876    2017-01-13 17:53:10\n",
              "111660   2017-01-13 20:08:30\n",
              "32328    2017-01-13 20:53:54\n",
              "15727    2017-01-13 22:21:41\n",
              "110010   2017-01-13 23:24:59\n",
              "97434    2017-01-14 01:16:14\n",
              "52775    2017-01-14 08:33:40\n",
              "90857    2017-01-14 12:17:10\n",
              "114216   2017-01-14 14:20:01\n",
              "21606    2017-01-14 15:11:28\n",
              "32886    2017-01-14 15:41:48\n",
              "544      2017-01-14 15:42:20\n",
              "63350    2017-01-14 16:10:59\n",
              "61017    2017-01-14 16:35:59\n",
              "112527   2017-01-14 17:44:58\n",
              "110349   2017-01-14 17:57:50\n",
              "56616    2017-01-14 17:59:38\n",
              "115413   2017-01-14 21:28:46\n",
              "86491    2017-01-14 21:56:03\n",
              "80825    2017-01-14 22:17:49\n",
              "39724    2017-01-14 23:05:01\n",
              "24954    2017-01-14 23:05:01\n",
              "Name: order_purchase_timestamp, dtype: datetime64[ns]"
            ]
          },
          "execution_count": 44,
          "metadata": {},
          "output_type": "execute_result"
        }
      ],
      "source": [
        "pd.set_option(\"display.max_rows\", 500)\n",
        "df_gap = df_olist_complet[df_olist_complet[\"order_purchase_timestamp\"] < \"2017/01/15\"]\n",
        "df_gap[\"order_purchase_timestamp\"].sort_values(ascending=True)"
      ]
    },
    {
      "cell_type": "code",
      "execution_count": null,
      "id": "c67edc8e-4fcb-484b-b6e9-ded15e07226d",
      "metadata": {
        "id": "c67edc8e-4fcb-484b-b6e9-ded15e07226d",
        "outputId": "8903847f-8d59-4be3-b952-d8a9bfb57081"
      },
      "outputs": [
        {
          "data": {
            "text/plain": [
              "<matplotlib.collections.PathCollection at 0x14256fd1f70>"
            ]
          },
          "execution_count": 45,
          "metadata": {},
          "output_type": "execute_result"
        },
        {
          "data": {
            "image/png": "[encoded data removed]",
            "text/plain": [
              "<Figure size 1080x1080 with 1 Axes>"
            ]
          },
          "metadata": {},
          "output_type": "display_data"
        }
      ],
      "source": [
        "plt.figure(figsize=(15, 15))\n",
        "plt.scatter(\n",
        "    df_gap[\"order_purchase_timestamp\"],\n",
        "    y=np.linspace(1, 1, len(df_gap[\"order_purchase_timestamp\"])),\n",
        ")"
      ]
    },
    {
      "cell_type": "markdown",
      "id": "cd574918-3ce8-42c4-a4bb-bb8850041603",
      "metadata": {
        "id": "cd574918-3ce8-42c4-a4bb-bb8850041603"
      },
      "source": [
        "##### Suppression des gaps temporels dûs au démarrage du site"
      ]
    },
    {
      "cell_type": "code",
      "execution_count": null,
      "id": "ff89b679-e6e8-4ed4-b240-a67f7d6bd9b8",
      "metadata": {
        "id": "ff89b679-e6e8-4ed4-b240-a67f7d6bd9b8",
        "outputId": "d2791692-baa6-4088-c810-74bf7c8b1000"
      },
      "outputs": [
        {
          "data": {
            "text/plain": [
              "datetime.timedelta(days=27)"
            ]
          },
          "execution_count": 46,
          "metadata": {},
          "output_type": "execute_result"
        }
      ],
      "source": [
        "date(2016, 10, 2) - date(2016, 9, 5)"
      ]
    },
    {
      "cell_type": "code",
      "execution_count": null,
      "id": "a62c7a1c-fc02-4168-8071-e1f99ab77b85",
      "metadata": {
        "id": "a62c7a1c-fc02-4168-8071-e1f99ab77b85",
        "outputId": "5df06287-c422-4777-9fb2-c0d16e479469"
      },
      "outputs": [
        {
          "data": {
            "text/plain": [
              "datetime.timedelta(days=82)"
            ]
          },
          "execution_count": 47,
          "metadata": {},
          "output_type": "execute_result"
        }
      ],
      "source": [
        "date(2016, 12, 23) - date(2016, 10, 2)"
      ]
    },
    {
      "cell_type": "code",
      "execution_count": null,
      "id": "d5a62cb8-52d2-4bfa-b0f0-8c9f02144ed4",
      "metadata": {
        "id": "d5a62cb8-52d2-4bfa-b0f0-8c9f02144ed4",
        "outputId": "bacc3a2b-91fe-43c7-ab10-941a9c28f1e6"
      },
      "outputs": [
        {
          "data": {
            "text/plain": [
              "datetime.timedelta(days=13)"
            ]
          },
          "execution_count": 48,
          "metadata": {},
          "output_type": "execute_result"
        }
      ],
      "source": [
        "date(2017, 1, 5) - date(2016, 12, 23)"
      ]
    },
    {
      "cell_type": "code",
      "execution_count": null,
      "id": "ce38858b-1dbc-4025-a0c2-1510859364a2",
      "metadata": {
        "id": "ce38858b-1dbc-4025-a0c2-1510859364a2"
      },
      "outputs": [],
      "source": [
        "# Liste des variables temporelles à décaler\n",
        "# (les écarts de temps entre celles ci\n",
        "# étant les caracteristiques nous interessant\n",
        "# ce décalage n'aura pas d'influence sur la qualité de notre analyse RFM :\n",
        "\n",
        "# 1er gap\n",
        "\n",
        "df_olist_complet.loc[\n",
        "    df_olist_complet[\"order_purchase_timestamp\"] < \"2016/12/23\",\n",
        "    \"order_approved_at\"\n",
        "] = df_olist_complet[\"order_approved_at\"] + timedelta(days=27)\n",
        "\n",
        "df_olist_complet.loc[\n",
        "    df_olist_complet[\"order_purchase_timestamp\"] < \"2016/9/6\",\n",
        "    \"order_delivered_carrier_date\",\n",
        "] = df_olist_complet[\"order_delivered_carrier_date\"] + timedelta(days=27)\n",
        "\n",
        "df_olist_complet.loc[\n",
        "    df_olist_complet[\"order_purchase_timestamp\"] < \"2016/9/6\",\n",
        "    \"order_delivered_customer_date\",\n",
        "] = df_olist_complet[\"order_delivered_customer_date\"] + timedelta(days=27)\n",
        "\n",
        "df_olist_complet.loc[\n",
        "    df_olist_complet[\"order_purchase_timestamp\"] < \"2016/9/6\",\n",
        "    \"order_estimated_delivery_date\",\n",
        "] = df_olist_complet[\"order_estimated_delivery_date\"] + timedelta(days=27)\n",
        "\n",
        "df_olist_complet.loc[\n",
        "    df_olist_complet[\"order_purchase_timestamp\"] < \"2016/9/6\",\n",
        "    \"review_creation_date\"\n",
        "] = df_olist_complet[\"review_creation_date\"] + timedelta(days=27)\n",
        "\n",
        "df_olist_complet.loc[\n",
        "    df_olist_complet[\"order_purchase_timestamp\"] < \"2016/9/6\",\n",
        "    \"review_answer_timestamp\"\n",
        "] = df_olist_complet[\"review_answer_timestamp\"] + timedelta(days=27)\n",
        "\n",
        "df_olist_complet.loc[\n",
        "    df_olist_complet[\"order_purchase_timestamp\"] < \"2016/9/6\",\n",
        "    \"shipping_limit_date\"\n",
        "] = df_olist_complet[\"shipping_limit_date\"] + timedelta(days=27)\n",
        "\n",
        "df_olist_complet.loc[\n",
        "    df_olist_complet[\"order_purchase_timestamp\"] < \"2016/9/6\",\n",
        "    \"order_purchase_timestamp\",\n",
        "] = df_olist_complet[\"order_purchase_timestamp\"] + timedelta(days=27)\n",
        "\n",
        "\n",
        "# 2d gap\n",
        "\n",
        "df_olist_complet.loc[\n",
        "    df_olist_complet[\"order_purchase_timestamp\"] < \"2016/12/23\",\n",
        "    \"order_approved_at\"\n",
        "] = df_olist_complet[\"order_approved_at\"] + timedelta(days=82)\n",
        "\n",
        "df_olist_complet.loc[\n",
        "    df_olist_complet[\"order_purchase_timestamp\"] < \"2016/12/23\",\n",
        "    \"order_delivered_carrier_date\",\n",
        "] = df_olist_complet[\"order_delivered_carrier_date\"] + timedelta(days=82)\n",
        "\n",
        "df_olist_complet.loc[\n",
        "    df_olist_complet[\"order_purchase_timestamp\"] < \"2016/12/23\",\n",
        "    \"order_delivered_customer_date\",\n",
        "] = df_olist_complet[\"order_delivered_customer_date\"] + timedelta(days=82)\n",
        "\n",
        "df_olist_complet.loc[\n",
        "    df_olist_complet[\"order_purchase_timestamp\"] < \"2016/12/23\",\n",
        "    \"order_estimated_delivery_date\",\n",
        "] = df_olist_complet[\"order_estimated_delivery_date\"] + timedelta(days=82)\n",
        "\n",
        "df_olist_complet.loc[\n",
        "    df_olist_complet[\"order_purchase_timestamp\"] < \"2016/12/23\",\n",
        "    \"review_creation_date\"\n",
        "] = df_olist_complet[\"review_creation_date\"] + timedelta(days=82)\n",
        "\n",
        "df_olist_complet.loc[\n",
        "    df_olist_complet[\"order_purchase_timestamp\"] < \"2016/12/23\",\n",
        "    \"review_answer_timestamp\",\n",
        "] = df_olist_complet[\"review_answer_timestamp\"] + timedelta(days=82)\n",
        "\n",
        "df_olist_complet.loc[\n",
        "    df_olist_complet[\"order_purchase_timestamp\"] < \"2016/12/23\",\n",
        "    \"shipping_limit_date\"\n",
        "] = df_olist_complet[\"shipping_limit_date\"] + timedelta(days=82)\n",
        "\n",
        "df_olist_complet.loc[\n",
        "    df_olist_complet[\"order_purchase_timestamp\"] < \"2016/12/23\",\n",
        "    \"order_purchase_timestamp\",\n",
        "] = df_olist_complet[\"order_purchase_timestamp\"] + timedelta(days=82)\n",
        "\n",
        "\n",
        "# 3eme gap\n",
        "\n",
        "df_olist_complet.loc[\n",
        "    df_olist_complet[\"order_purchase_timestamp\"] < \"2017/1/5\",\n",
        "    \"order_approved_at\"\n",
        "] = df_olist_complet[\"order_approved_at\"] + timedelta(days=13)\n",
        "\n",
        "df_olist_complet.loc[\n",
        "    df_olist_complet[\"order_purchase_timestamp\"] < \"2017/1/5\",\n",
        "    \"order_delivered_carrier_date\",\n",
        "] = df_olist_complet[\"order_delivered_carrier_date\"] + timedelta(days=13)\n",
        "\n",
        "df_olist_complet.loc[\n",
        "    df_olist_complet[\"order_purchase_timestamp\"] < \"2017/1/5\",\n",
        "    \"order_delivered_customer_date\",\n",
        "] = df_olist_complet[\"order_delivered_customer_date\"] + timedelta(days=13)\n",
        "\n",
        "df_olist_complet.loc[\n",
        "    df_olist_complet[\"order_purchase_timestamp\"] < \"2017/1/5\",\n",
        "    \"order_estimated_delivery_date\",\n",
        "] = df_olist_complet[\"order_estimated_delivery_date\"] + timedelta(days=13)\n",
        "\n",
        "df_olist_complet.loc[\n",
        "    df_olist_complet[\"order_purchase_timestamp\"] < \"2017/1/5\",\n",
        "    \"review_creation_date\"\n",
        "] = df_olist_complet[\"review_creation_date\"] + timedelta(days=13)\n",
        "\n",
        "df_olist_complet.loc[\n",
        "    df_olist_complet[\"order_purchase_timestamp\"] < \"2017/1/5\",\n",
        "    \"review_answer_timestamp\"\n",
        "] = df_olist_complet[\"review_answer_timestamp\"] + timedelta(days=13)\n",
        "\n",
        "df_olist_complet.loc[\n",
        "    df_olist_complet[\"order_purchase_timestamp\"] < \"2017/1/5\",\n",
        "    \"shipping_limit_date\"\n",
        "] = df_olist_complet[\"shipping_limit_date\"] + timedelta(days=13)\n",
        "\n",
        "df_olist_complet.loc[\n",
        "    df_olist_complet[\"order_purchase_timestamp\"] < \"2017/1/5\",\n",
        "    \"order_purchase_timestamp\",\n",
        "] = df_olist_complet[\"order_purchase_timestamp\"] + timedelta(days=13)"
      ]
    },
    {
      "cell_type": "code",
      "execution_count": null,
      "id": "35735e56-113e-44cc-a271-3bdc8fe4eac6",
      "metadata": {
        "id": "35735e56-113e-44cc-a271-3bdc8fe4eac6",
        "outputId": "b6b9760f-2bb1-42bf-d4b0-11b223fef92e"
      },
      "outputs": [
        {
          "data": {
            "text/plain": [
              "<matplotlib.collections.PathCollection at 0x14258377d00>"
            ]
          },
          "execution_count": 50,
          "metadata": {},
          "output_type": "execute_result"
        },
        {
          "data": {
            "image/png": "[encoded data removed]",
            "text/plain": [
              "<Figure size 576x396 with 1 Axes>"
            ]
          },
          "metadata": {},
          "output_type": "display_data"
        }
      ],
      "source": [
        "plt.scatter(\n",
        "    df_olist_complet[\"order_purchase_timestamp\"],\n",
        "    y=np.linspace(1, 1, len(df_olist_complet[\"order_purchase_timestamp\"])),\n",
        ")"
      ]
    },
    {
      "cell_type": "markdown",
      "id": "9fbd9e07-d8c9-427d-8bcb-b3a506797f5a",
      "metadata": {
        "id": "9fbd9e07-d8c9-427d-8bcb-b3a506797f5a"
      },
      "source": [
        "#### Review score"
      ]
    },
    {
      "cell_type": "code",
      "execution_count": null,
      "id": "54e9a4fa-40f9-4f6a-8ea4-f9324ba7cedd",
      "metadata": {
        "id": "54e9a4fa-40f9-4f6a-8ea4-f9324ba7cedd",
        "outputId": "3e06916b-4a04-443a-a3b8-d69c96f78ac2"
      },
      "outputs": [
        {
          "data": {
            "text/plain": [
              "5    65374\n",
              "4    21951\n",
              "1    14546\n",
              "3     9718\n",
              "2     4020\n",
              "Name: review_score, dtype: int64"
            ]
          },
          "execution_count": 51,
          "metadata": {},
          "output_type": "execute_result"
        }
      ],
      "source": [
        "df_olist_complet[\"review_score\"].value_counts()"
      ]
    },
    {
      "cell_type": "code",
      "execution_count": null,
      "id": "0500c05e-5330-4a1a-9689-5176de904e1f",
      "metadata": {
        "id": "0500c05e-5330-4a1a-9689-5176de904e1f",
        "outputId": "3bdeeb40-b17e-4117-d83b-f80936af359c"
      },
      "outputs": [
        {
          "data": {
            "text/html": [
              "<div>\n",
              "<style scoped>\n",
              "    .dataframe tbody tr th:only-of-type {\n",
              "        vertical-align: middle;\n",
              "    }\n",
              "\n",
              "    .dataframe tbody tr th {\n",
              "        vertical-align: top;\n",
              "    }\n",
              "\n",
              "    .dataframe thead th {\n",
              "        text-align: right;\n",
              "    }\n",
              "</style>\n",
              "<table border=\"1\" class=\"dataframe\">\n",
              "  <thead>\n",
              "    <tr style=\"text-align: right;\">\n",
              "      <th></th>\n",
              "      <th>index</th>\n",
              "      <th>review_score</th>\n",
              "    </tr>\n",
              "  </thead>\n",
              "  <tbody>\n",
              "    <tr>\n",
              "      <th>0</th>\n",
              "      <td>5</td>\n",
              "      <td>65374</td>\n",
              "    </tr>\n",
              "    <tr>\n",
              "      <th>1</th>\n",
              "      <td>4</td>\n",
              "      <td>21951</td>\n",
              "    </tr>\n",
              "    <tr>\n",
              "      <th>2</th>\n",
              "      <td>1</td>\n",
              "      <td>14546</td>\n",
              "    </tr>\n",
              "    <tr>\n",
              "      <th>3</th>\n",
              "      <td>3</td>\n",
              "      <td>9718</td>\n",
              "    </tr>\n",
              "    <tr>\n",
              "      <th>4</th>\n",
              "      <td>2</td>\n",
              "      <td>4020</td>\n",
              "    </tr>\n",
              "  </tbody>\n",
              "</table>\n",
              "</div>"
            ],
            "text/plain": [
              "   index  review_score\n",
              "0      5         65374\n",
              "1      4         21951\n",
              "2      1         14546\n",
              "3      3          9718\n",
              "4      2          4020"
            ]
          },
          "execution_count": 52,
          "metadata": {},
          "output_type": "execute_result"
        }
      ],
      "source": [
        "bar_review = pd.DataFrame(df_olist_complet[\"review_score\"]\n",
        "                          .value_counts()).reset_index()\n",
        "bar_review"
      ]
    },
    {
      "cell_type": "code",
      "execution_count": null,
      "id": "9cca980c",
      "metadata": {
        "id": "9cca980c",
        "outputId": "fac758ae-34f5-4f58-f46b-89d7cb4ec710"
      },
      "outputs": [
        {
          "data": {
            "text/html": [
              "<div>\n",
              "<style scoped>\n",
              "    .dataframe tbody tr th:only-of-type {\n",
              "        vertical-align: middle;\n",
              "    }\n",
              "\n",
              "    .dataframe tbody tr th {\n",
              "        vertical-align: top;\n",
              "    }\n",
              "\n",
              "    .dataframe thead th {\n",
              "        text-align: right;\n",
              "    }\n",
              "</style>\n",
              "<table border=\"1\" class=\"dataframe\">\n",
              "  <thead>\n",
              "    <tr style=\"text-align: right;\">\n",
              "      <th></th>\n",
              "      <th>index</th>\n",
              "      <th>review_score</th>\n",
              "    </tr>\n",
              "  </thead>\n",
              "  <tbody>\n",
              "    <tr>\n",
              "      <th>0</th>\n",
              "      <td>5</td>\n",
              "      <td>0.565475</td>\n",
              "    </tr>\n",
              "    <tr>\n",
              "      <th>1</th>\n",
              "      <td>4</td>\n",
              "      <td>0.189873</td>\n",
              "    </tr>\n",
              "    <tr>\n",
              "      <th>2</th>\n",
              "      <td>1</td>\n",
              "      <td>0.125821</td>\n",
              "    </tr>\n",
              "    <tr>\n",
              "      <th>3</th>\n",
              "      <td>3</td>\n",
              "      <td>0.084059</td>\n",
              "    </tr>\n",
              "    <tr>\n",
              "      <th>4</th>\n",
              "      <td>2</td>\n",
              "      <td>0.034772</td>\n",
              "    </tr>\n",
              "  </tbody>\n",
              "</table>\n",
              "</div>"
            ],
            "text/plain": [
              "   index  review_score\n",
              "0      5      0.565475\n",
              "1      4      0.189873\n",
              "2      1      0.125821\n",
              "3      3      0.084059\n",
              "4      2      0.034772"
            ]
          },
          "execution_count": 53,
          "metadata": {},
          "output_type": "execute_result"
        }
      ],
      "source": [
        "bar_review_percent = pd.DataFrame(df_olist_complet[\"review_score\"]\n",
        "                          .value_counts(normalize=True)).reset_index()\n",
        "bar_review_percent"
      ]
    },
    {
      "cell_type": "code",
      "execution_count": null,
      "id": "6019f358-674b-4201-997e-242ee92f3f7b",
      "metadata": {
        "id": "6019f358-674b-4201-997e-242ee92f3f7b",
        "outputId": "3785e841-ef6e-4f78-e2c9-adc80e316d0a"
      },
      "outputs": [
        {
          "data": {
            "text/plain": [
              "<AxesSubplot:title={'center':'Notes totales distribuées'}, xlabel='index'>"
            ]
          },
          "execution_count": 54,
          "metadata": {},
          "output_type": "execute_result"
        },
        {
          "data": {
            "image/png": "[encoded data removed]",
            "text/plain": [
              "<Figure size 576x396 with 1 Axes>"
            ]
          },
          "metadata": {},
          "output_type": "display_data"
        }
      ],
      "source": [
        "bar_review.plot.bar(y=\"review_score\", x=\"index\",\n",
        "                    title=\"Notes totales distribuées\")"
      ]
    },
    {
      "cell_type": "markdown",
      "id": "14163ed3-751d-4d1d-b035-5cc7522368de",
      "metadata": {
        "id": "14163ed3-751d-4d1d-b035-5cc7522368de"
      },
      "source": [
        "#### Variables geographiques"
      ]
    },
    {
      "cell_type": "markdown",
      "id": "e14c6198-3362-4679-bc25-0f2b5dd7775a",
      "metadata": {
        "id": "e14c6198-3362-4679-bc25-0f2b5dd7775a"
      },
      "source": [
        "##### Etat"
      ]
    },
    {
      "cell_type": "code",
      "execution_count": null,
      "id": "7a36257a-190c-4077-9bae-45b3497c6b2b",
      "metadata": {
        "id": "7a36257a-190c-4077-9bae-45b3497c6b2b",
        "outputId": "6894b8a9-1f9d-443f-8da3-1d54ec02b0a8"
      },
      "outputs": [
        {
          "data": {
            "text/html": [
              "<div>\n",
              "<style scoped>\n",
              "    .dataframe tbody tr th:only-of-type {\n",
              "        vertical-align: middle;\n",
              "    }\n",
              "\n",
              "    .dataframe tbody tr th {\n",
              "        vertical-align: top;\n",
              "    }\n",
              "\n",
              "    .dataframe thead th {\n",
              "        text-align: right;\n",
              "    }\n",
              "</style>\n",
              "<table border=\"1\" class=\"dataframe\">\n",
              "  <thead>\n",
              "    <tr style=\"text-align: right;\">\n",
              "      <th></th>\n",
              "      <th>index</th>\n",
              "      <th>customer_state</th>\n",
              "    </tr>\n",
              "  </thead>\n",
              "  <tbody>\n",
              "    <tr>\n",
              "      <th>0</th>\n",
              "      <td>SP</td>\n",
              "      <td>48797</td>\n",
              "    </tr>\n",
              "    <tr>\n",
              "      <th>1</th>\n",
              "      <td>RJ</td>\n",
              "      <td>14987</td>\n",
              "    </tr>\n",
              "    <tr>\n",
              "      <th>2</th>\n",
              "      <td>MG</td>\n",
              "      <td>13429</td>\n",
              "    </tr>\n",
              "    <tr>\n",
              "      <th>3</th>\n",
              "      <td>RS</td>\n",
              "      <td>6413</td>\n",
              "    </tr>\n",
              "    <tr>\n",
              "      <th>4</th>\n",
              "      <td>PR</td>\n",
              "      <td>5879</td>\n",
              "    </tr>\n",
              "    <tr>\n",
              "      <th>5</th>\n",
              "      <td>SC</td>\n",
              "      <td>4218</td>\n",
              "    </tr>\n",
              "    <tr>\n",
              "      <th>6</th>\n",
              "      <td>BA</td>\n",
              "      <td>3942</td>\n",
              "    </tr>\n",
              "    <tr>\n",
              "      <th>7</th>\n",
              "      <td>DF</td>\n",
              "      <td>2449</td>\n",
              "    </tr>\n",
              "    <tr>\n",
              "      <th>8</th>\n",
              "      <td>GO</td>\n",
              "      <td>2359</td>\n",
              "    </tr>\n",
              "    <tr>\n",
              "      <th>9</th>\n",
              "      <td>ES</td>\n",
              "      <td>2300</td>\n",
              "    </tr>\n",
              "    <tr>\n",
              "      <th>10</th>\n",
              "      <td>PE</td>\n",
              "      <td>1851</td>\n",
              "    </tr>\n",
              "    <tr>\n",
              "      <th>11</th>\n",
              "      <td>CE</td>\n",
              "      <td>1527</td>\n",
              "    </tr>\n",
              "    <tr>\n",
              "      <th>12</th>\n",
              "      <td>MT</td>\n",
              "      <td>1106</td>\n",
              "    </tr>\n",
              "    <tr>\n",
              "      <th>13</th>\n",
              "      <td>PA</td>\n",
              "      <td>1081</td>\n",
              "    </tr>\n",
              "    <tr>\n",
              "      <th>14</th>\n",
              "      <td>MS</td>\n",
              "      <td>845</td>\n",
              "    </tr>\n",
              "    <tr>\n",
              "      <th>15</th>\n",
              "      <td>MA</td>\n",
              "      <td>832</td>\n",
              "    </tr>\n",
              "    <tr>\n",
              "      <th>16</th>\n",
              "      <td>PB</td>\n",
              "      <td>619</td>\n",
              "    </tr>\n",
              "    <tr>\n",
              "      <th>17</th>\n",
              "      <td>PI</td>\n",
              "      <td>561</td>\n",
              "    </tr>\n",
              "    <tr>\n",
              "      <th>18</th>\n",
              "      <td>RN</td>\n",
              "      <td>560</td>\n",
              "    </tr>\n",
              "    <tr>\n",
              "      <th>19</th>\n",
              "      <td>AL</td>\n",
              "      <td>455</td>\n",
              "    </tr>\n",
              "    <tr>\n",
              "      <th>20</th>\n",
              "      <td>SE</td>\n",
              "      <td>393</td>\n",
              "    </tr>\n",
              "    <tr>\n",
              "      <th>21</th>\n",
              "      <td>TO</td>\n",
              "      <td>333</td>\n",
              "    </tr>\n",
              "    <tr>\n",
              "      <th>22</th>\n",
              "      <td>RO</td>\n",
              "      <td>279</td>\n",
              "    </tr>\n",
              "    <tr>\n",
              "      <th>23</th>\n",
              "      <td>AM</td>\n",
              "      <td>168</td>\n",
              "    </tr>\n",
              "    <tr>\n",
              "      <th>24</th>\n",
              "      <td>AC</td>\n",
              "      <td>93</td>\n",
              "    </tr>\n",
              "    <tr>\n",
              "      <th>25</th>\n",
              "      <td>AP</td>\n",
              "      <td>83</td>\n",
              "    </tr>\n",
              "    <tr>\n",
              "      <th>26</th>\n",
              "      <td>RR</td>\n",
              "      <td>50</td>\n",
              "    </tr>\n",
              "  </tbody>\n",
              "</table>\n",
              "</div>"
            ],
            "text/plain": [
              "   index  customer_state\n",
              "0     SP           48797\n",
              "1     RJ           14987\n",
              "2     MG           13429\n",
              "3     RS            6413\n",
              "4     PR            5879\n",
              "5     SC            4218\n",
              "6     BA            3942\n",
              "7     DF            2449\n",
              "8     GO            2359\n",
              "9     ES            2300\n",
              "10    PE            1851\n",
              "11    CE            1527\n",
              "12    MT            1106\n",
              "13    PA            1081\n",
              "14    MS             845\n",
              "15    MA             832\n",
              "16    PB             619\n",
              "17    PI             561\n",
              "18    RN             560\n",
              "19    AL             455\n",
              "20    SE             393\n",
              "21    TO             333\n",
              "22    RO             279\n",
              "23    AM             168\n",
              "24    AC              93\n",
              "25    AP              83\n",
              "26    RR              50"
            ]
          },
          "execution_count": 55,
          "metadata": {},
          "output_type": "execute_result"
        }
      ],
      "source": [
        "bar_etat = pd.DataFrame(df_olist_complet[\"customer_state\"]\n",
        "                        .value_counts()).reset_index()\n",
        "bar_etat"
      ]
    },
    {
      "cell_type": "code",
      "execution_count": null,
      "id": "d62f8a3a-1123-4386-a64a-cffddf988c77",
      "metadata": {
        "id": "d62f8a3a-1123-4386-a64a-cffddf988c77",
        "outputId": "8fb7c90a-8457-46bd-c947-c58d579ea64b"
      },
      "outputs": [
        {
          "data": {
            "text/plain": [
              "<AxesSubplot:title={'center':'Nombre de commandes par etat'}, xlabel='index'>"
            ]
          },
          "execution_count": 56,
          "metadata": {},
          "output_type": "execute_result"
        },
        {
          "data": {
            "image/png": "[encoded data removed]",
            "text/plain": [
              "<Figure size 1080x1080 with 1 Axes>"
            ]
          },
          "metadata": {},
          "output_type": "display_data"
        }
      ],
      "source": [
        "bar_etat.plot.bar(\n",
        "    y=\"customer_state\",\n",
        "    x=\"index\",\n",
        "    figsize=(15, 15),\n",
        "    title=\"Nombre de commandes par etat\",\n",
        ")"
      ]
    },
    {
      "cell_type": "markdown",
      "id": "28b501eb-a542-4194-a9c9-2121ec51b591",
      "metadata": {
        "id": "28b501eb-a542-4194-a9c9-2121ec51b591"
      },
      "source": [
        "#### Statuts de commandes"
      ]
    },
    {
      "cell_type": "code",
      "execution_count": null,
      "id": "98660521-348f-47cb-981c-be52a28a2b25",
      "metadata": {
        "scrolled": true,
        "id": "98660521-348f-47cb-981c-be52a28a2b25",
        "outputId": "00797f40-4530-48b1-c8de-fe1d15edc812"
      },
      "outputs": [
        {
          "data": {
            "text/html": [
              "<div>\n",
              "<style scoped>\n",
              "    .dataframe tbody tr th:only-of-type {\n",
              "        vertical-align: middle;\n",
              "    }\n",
              "\n",
              "    .dataframe tbody tr th {\n",
              "        vertical-align: top;\n",
              "    }\n",
              "\n",
              "    .dataframe thead th {\n",
              "        text-align: right;\n",
              "    }\n",
              "</style>\n",
              "<table border=\"1\" class=\"dataframe\">\n",
              "  <thead>\n",
              "    <tr style=\"text-align: right;\">\n",
              "      <th></th>\n",
              "      <th>index</th>\n",
              "      <th>order_status</th>\n",
              "    </tr>\n",
              "  </thead>\n",
              "  <tbody>\n",
              "    <tr>\n",
              "      <th>0</th>\n",
              "      <td>delivered</td>\n",
              "      <td>113210</td>\n",
              "    </tr>\n",
              "    <tr>\n",
              "      <th>1</th>\n",
              "      <td>shipped</td>\n",
              "      <td>1138</td>\n",
              "    </tr>\n",
              "    <tr>\n",
              "      <th>2</th>\n",
              "      <td>canceled</td>\n",
              "      <td>536</td>\n",
              "    </tr>\n",
              "    <tr>\n",
              "      <th>3</th>\n",
              "      <td>invoiced</td>\n",
              "      <td>358</td>\n",
              "    </tr>\n",
              "    <tr>\n",
              "      <th>4</th>\n",
              "      <td>processing</td>\n",
              "      <td>357</td>\n",
              "    </tr>\n",
              "    <tr>\n",
              "      <th>5</th>\n",
              "      <td>unavailable</td>\n",
              "      <td>7</td>\n",
              "    </tr>\n",
              "    <tr>\n",
              "      <th>6</th>\n",
              "      <td>approved</td>\n",
              "      <td>3</td>\n",
              "    </tr>\n",
              "  </tbody>\n",
              "</table>\n",
              "</div>"
            ],
            "text/plain": [
              "         index  order_status\n",
              "0    delivered        113210\n",
              "1      shipped          1138\n",
              "2     canceled           536\n",
              "3     invoiced           358\n",
              "4   processing           357\n",
              "5  unavailable             7\n",
              "6     approved             3"
            ]
          },
          "execution_count": 57,
          "metadata": {},
          "output_type": "execute_result"
        }
      ],
      "source": [
        "bar_status = pd.DataFrame(df_olist_complet[\"order_status\"]\n",
        "                          .value_counts()).reset_index()\n",
        "bar_status"
      ]
    },
    {
      "cell_type": "code",
      "execution_count": null,
      "id": "2e4eef87",
      "metadata": {
        "id": "2e4eef87",
        "outputId": "fe3d26f3-247f-4df2-bae6-af6c0079e3ba"
      },
      "outputs": [
        {
          "data": {
            "text/html": [
              "<div>\n",
              "<style scoped>\n",
              "    .dataframe tbody tr th:only-of-type {\n",
              "        vertical-align: middle;\n",
              "    }\n",
              "\n",
              "    .dataframe tbody tr th {\n",
              "        vertical-align: top;\n",
              "    }\n",
              "\n",
              "    .dataframe thead th {\n",
              "        text-align: right;\n",
              "    }\n",
              "</style>\n",
              "<table border=\"1\" class=\"dataframe\">\n",
              "  <thead>\n",
              "    <tr style=\"text-align: right;\">\n",
              "      <th></th>\n",
              "      <th>index</th>\n",
              "      <th>order_status</th>\n",
              "    </tr>\n",
              "  </thead>\n",
              "  <tbody>\n",
              "    <tr>\n",
              "      <th>0</th>\n",
              "      <td>delivered</td>\n",
              "      <td>0.979249</td>\n",
              "    </tr>\n",
              "    <tr>\n",
              "      <th>1</th>\n",
              "      <td>shipped</td>\n",
              "      <td>0.009844</td>\n",
              "    </tr>\n",
              "    <tr>\n",
              "      <th>2</th>\n",
              "      <td>canceled</td>\n",
              "      <td>0.004636</td>\n",
              "    </tr>\n",
              "    <tr>\n",
              "      <th>3</th>\n",
              "      <td>invoiced</td>\n",
              "      <td>0.003097</td>\n",
              "    </tr>\n",
              "    <tr>\n",
              "      <th>4</th>\n",
              "      <td>processing</td>\n",
              "      <td>0.003088</td>\n",
              "    </tr>\n",
              "    <tr>\n",
              "      <th>5</th>\n",
              "      <td>unavailable</td>\n",
              "      <td>0.000061</td>\n",
              "    </tr>\n",
              "    <tr>\n",
              "      <th>6</th>\n",
              "      <td>approved</td>\n",
              "      <td>0.000026</td>\n",
              "    </tr>\n",
              "  </tbody>\n",
              "</table>\n",
              "</div>"
            ],
            "text/plain": [
              "         index  order_status\n",
              "0    delivered      0.979249\n",
              "1      shipped      0.009844\n",
              "2     canceled      0.004636\n",
              "3     invoiced      0.003097\n",
              "4   processing      0.003088\n",
              "5  unavailable      0.000061\n",
              "6     approved      0.000026"
            ]
          },
          "execution_count": 58,
          "metadata": {},
          "output_type": "execute_result"
        }
      ],
      "source": [
        "bar_status = pd.DataFrame(df_olist_complet[\"order_status\"]\n",
        "                          .value_counts(normalize=True)).reset_index()\n",
        "bar_status"
      ]
    },
    {
      "cell_type": "code",
      "execution_count": null,
      "id": "2a150e2a-2189-4ab8-88a1-a81f0c25375e",
      "metadata": {
        "id": "2a150e2a-2189-4ab8-88a1-a81f0c25375e",
        "outputId": "03a7958a-c4da-4679-b773-0c83203b8e22"
      },
      "outputs": [
        {
          "data": {
            "text/plain": [
              "<AxesSubplot:title={'center':'Nombre de statuts de commandes'}, xlabel='index'>"
            ]
          },
          "execution_count": 59,
          "metadata": {},
          "output_type": "execute_result"
        },
        {
          "data": {
            "image/png": "[encoded data removed]",
            "text/plain": [
              "<Figure size 864x864 with 1 Axes>"
            ]
          },
          "metadata": {},
          "output_type": "display_data"
        }
      ],
      "source": [
        "bar_status.plot.bar(\n",
        "    y=\"order_status\",\n",
        "    x=\"index\",\n",
        "    figsize=(12, 12),\n",
        "    title=\"Nombre de statuts de commandes\",\n",
        ")"
      ]
    },
    {
      "cell_type": "code",
      "execution_count": null,
      "id": "989ff166",
      "metadata": {
        "id": "989ff166",
        "outputId": "515519c3-6bd5-4b88-8d56-71bf2e025ff8"
      },
      "outputs": [
        {
          "data": {
            "image/png": "[encoded data removed]",
            "text/plain": [
              "<Figure size 864x864 with 1 Axes>"
            ]
          },
          "metadata": {},
          "output_type": "display_data"
        }
      ],
      "source": [
        "bar_status.plot.bar(\n",
        "    y=\"order_status\",\n",
        "    x=\"index\",\n",
        "    figsize=(12, 12),\n",
        "    title=\"Nombre de statuts de commandes\",\n",
        ")\n",
        "plt.yscale(\"log\")"
      ]
    },
    {
      "cell_type": "markdown",
      "id": "711a26ec",
      "metadata": {
        "id": "711a26ec"
      },
      "source": [
        "#### Product category"
      ]
    },
    {
      "cell_type": "code",
      "execution_count": null,
      "id": "e3a9d33b",
      "metadata": {
        "scrolled": true,
        "id": "e3a9d33b",
        "outputId": "9feaa208-6e53-4599-88ae-79ae30910f45"
      },
      "outputs": [
        {
          "data": {
            "text/html": [
              "<div>\n",
              "<style scoped>\n",
              "    .dataframe tbody tr th:only-of-type {\n",
              "        vertical-align: middle;\n",
              "    }\n",
              "\n",
              "    .dataframe tbody tr th {\n",
              "        vertical-align: top;\n",
              "    }\n",
              "\n",
              "    .dataframe thead th {\n",
              "        text-align: right;\n",
              "    }\n",
              "</style>\n",
              "<table border=\"1\" class=\"dataframe\">\n",
              "  <thead>\n",
              "    <tr style=\"text-align: right;\">\n",
              "      <th></th>\n",
              "      <th>index</th>\n",
              "      <th>product_category_name_english</th>\n",
              "    </tr>\n",
              "  </thead>\n",
              "  <tbody>\n",
              "    <tr>\n",
              "      <th>0</th>\n",
              "      <td>bed_bath_table</td>\n",
              "      <td>11847</td>\n",
              "    </tr>\n",
              "    <tr>\n",
              "      <th>1</th>\n",
              "      <td>health_beauty</td>\n",
              "      <td>9944</td>\n",
              "    </tr>\n",
              "    <tr>\n",
              "      <th>2</th>\n",
              "      <td>sports_leisure</td>\n",
              "      <td>8942</td>\n",
              "    </tr>\n",
              "    <tr>\n",
              "      <th>3</th>\n",
              "      <td>furniture_decor</td>\n",
              "      <td>8743</td>\n",
              "    </tr>\n",
              "    <tr>\n",
              "      <th>4</th>\n",
              "      <td>computers_accessories</td>\n",
              "      <td>8105</td>\n",
              "    </tr>\n",
              "    <tr>\n",
              "      <th>5</th>\n",
              "      <td>housewares</td>\n",
              "      <td>7331</td>\n",
              "    </tr>\n",
              "    <tr>\n",
              "      <th>6</th>\n",
              "      <td>watches_gifts</td>\n",
              "      <td>6161</td>\n",
              "    </tr>\n",
              "    <tr>\n",
              "      <th>7</th>\n",
              "      <td>telephony</td>\n",
              "      <td>4692</td>\n",
              "    </tr>\n",
              "    <tr>\n",
              "      <th>8</th>\n",
              "      <td>garden_tools</td>\n",
              "      <td>4558</td>\n",
              "    </tr>\n",
              "    <tr>\n",
              "      <th>9</th>\n",
              "      <td>auto</td>\n",
              "      <td>4356</td>\n",
              "    </tr>\n",
              "    <tr>\n",
              "      <th>10</th>\n",
              "      <td>toys</td>\n",
              "      <td>4246</td>\n",
              "    </tr>\n",
              "    <tr>\n",
              "      <th>11</th>\n",
              "      <td>cool_stuff</td>\n",
              "      <td>3964</td>\n",
              "    </tr>\n",
              "    <tr>\n",
              "      <th>12</th>\n",
              "      <td>perfumery</td>\n",
              "      <td>3575</td>\n",
              "    </tr>\n",
              "    <tr>\n",
              "      <th>13</th>\n",
              "      <td>baby</td>\n",
              "      <td>3178</td>\n",
              "    </tr>\n",
              "    <tr>\n",
              "      <th>14</th>\n",
              "      <td>electronics</td>\n",
              "      <td>2827</td>\n",
              "    </tr>\n",
              "    <tr>\n",
              "      <th>15</th>\n",
              "      <td>stationery</td>\n",
              "      <td>2607</td>\n",
              "    </tr>\n",
              "    <tr>\n",
              "      <th>16</th>\n",
              "      <td>fashion_bags_accessories</td>\n",
              "      <td>2159</td>\n",
              "    </tr>\n",
              "    <tr>\n",
              "      <th>17</th>\n",
              "      <td>pet_shop</td>\n",
              "      <td>2020</td>\n",
              "    </tr>\n",
              "    <tr>\n",
              "      <th>18</th>\n",
              "      <td>office_furniture</td>\n",
              "      <td>1773</td>\n",
              "    </tr>\n",
              "    <tr>\n",
              "      <th>19</th>\n",
              "      <td>consoles_games</td>\n",
              "      <td>1180</td>\n",
              "    </tr>\n",
              "    <tr>\n",
              "      <th>20</th>\n",
              "      <td>luggage_accessories</td>\n",
              "      <td>1159</td>\n",
              "    </tr>\n",
              "    <tr>\n",
              "      <th>21</th>\n",
              "      <td>construction_tools_construction</td>\n",
              "      <td>950</td>\n",
              "    </tr>\n",
              "    <tr>\n",
              "      <th>22</th>\n",
              "      <td>home_appliances</td>\n",
              "      <td>823</td>\n",
              "    </tr>\n",
              "    <tr>\n",
              "      <th>23</th>\n",
              "      <td>musical_instruments</td>\n",
              "      <td>712</td>\n",
              "    </tr>\n",
              "    <tr>\n",
              "      <th>24</th>\n",
              "      <td>small_appliances</td>\n",
              "      <td>699</td>\n",
              "    </tr>\n",
              "    <tr>\n",
              "      <th>25</th>\n",
              "      <td>home_construction</td>\n",
              "      <td>630</td>\n",
              "    </tr>\n",
              "    <tr>\n",
              "      <th>26</th>\n",
              "      <td>books_general_interest</td>\n",
              "      <td>561</td>\n",
              "    </tr>\n",
              "    <tr>\n",
              "      <th>27</th>\n",
              "      <td>furniture_living_room</td>\n",
              "      <td>522</td>\n",
              "    </tr>\n",
              "    <tr>\n",
              "      <th>28</th>\n",
              "      <td>food</td>\n",
              "      <td>511</td>\n",
              "    </tr>\n",
              "    <tr>\n",
              "      <th>29</th>\n",
              "      <td>home_confort</td>\n",
              "      <td>476</td>\n",
              "    </tr>\n",
              "    <tr>\n",
              "      <th>30</th>\n",
              "      <td>drinks</td>\n",
              "      <td>384</td>\n",
              "    </tr>\n",
              "    <tr>\n",
              "      <th>31</th>\n",
              "      <td>audio</td>\n",
              "      <td>377</td>\n",
              "    </tr>\n",
              "    <tr>\n",
              "      <th>32</th>\n",
              "      <td>market_place</td>\n",
              "      <td>330</td>\n",
              "    </tr>\n",
              "    <tr>\n",
              "      <th>33</th>\n",
              "      <td>construction_tools_lights</td>\n",
              "      <td>305</td>\n",
              "    </tr>\n",
              "    <tr>\n",
              "      <th>34</th>\n",
              "      <td>air_conditioning</td>\n",
              "      <td>297</td>\n",
              "    </tr>\n",
              "    <tr>\n",
              "      <th>35</th>\n",
              "      <td>kitchen_dining_laundry_garden_furniture</td>\n",
              "      <td>297</td>\n",
              "    </tr>\n",
              "    <tr>\n",
              "      <th>36</th>\n",
              "      <td>food_drink</td>\n",
              "      <td>290</td>\n",
              "    </tr>\n",
              "    <tr>\n",
              "      <th>37</th>\n",
              "      <td>fashion_shoes</td>\n",
              "      <td>273</td>\n",
              "    </tr>\n",
              "    <tr>\n",
              "      <th>38</th>\n",
              "      <td>books_technical</td>\n",
              "      <td>269</td>\n",
              "    </tr>\n",
              "    <tr>\n",
              "      <th>39</th>\n",
              "      <td>industry_commerce_and_business</td>\n",
              "      <td>269</td>\n",
              "    </tr>\n",
              "    <tr>\n",
              "      <th>40</th>\n",
              "      <td>fixed_telephony</td>\n",
              "      <td>269</td>\n",
              "    </tr>\n",
              "    <tr>\n",
              "      <th>41</th>\n",
              "      <td>home_appliances_2</td>\n",
              "      <td>268</td>\n",
              "    </tr>\n",
              "    <tr>\n",
              "      <th>42</th>\n",
              "      <td>agro_industry_and_commerce</td>\n",
              "      <td>252</td>\n",
              "    </tr>\n",
              "    <tr>\n",
              "      <th>43</th>\n",
              "      <td>costruction_tools_garden</td>\n",
              "      <td>247</td>\n",
              "    </tr>\n",
              "    <tr>\n",
              "      <th>44</th>\n",
              "      <td>computers</td>\n",
              "      <td>217</td>\n",
              "    </tr>\n",
              "    <tr>\n",
              "      <th>45</th>\n",
              "      <td>art</td>\n",
              "      <td>217</td>\n",
              "    </tr>\n",
              "    <tr>\n",
              "      <th>46</th>\n",
              "      <td>signaling_and_security</td>\n",
              "      <td>199</td>\n",
              "    </tr>\n",
              "    <tr>\n",
              "      <th>47</th>\n",
              "      <td>construction_tools_safety</td>\n",
              "      <td>198</td>\n",
              "    </tr>\n",
              "    <tr>\n",
              "      <th>48</th>\n",
              "      <td>christmas_supplies</td>\n",
              "      <td>148</td>\n",
              "    </tr>\n",
              "    <tr>\n",
              "      <th>49</th>\n",
              "      <td>fashion_male_clothing</td>\n",
              "      <td>144</td>\n",
              "    </tr>\n",
              "    <tr>\n",
              "      <th>50</th>\n",
              "      <td>fashion_underwear_beach</td>\n",
              "      <td>143</td>\n",
              "    </tr>\n",
              "    <tr>\n",
              "      <th>51</th>\n",
              "      <td>furniture_bedroom</td>\n",
              "      <td>126</td>\n",
              "    </tr>\n",
              "    <tr>\n",
              "      <th>52</th>\n",
              "      <td>costruction_tools_tools</td>\n",
              "      <td>101</td>\n",
              "    </tr>\n",
              "    <tr>\n",
              "      <th>53</th>\n",
              "      <td>tablets_printing_image</td>\n",
              "      <td>85</td>\n",
              "    </tr>\n",
              "    <tr>\n",
              "      <th>54</th>\n",
              "      <td>small_appliances_home_oven_and_coffee</td>\n",
              "      <td>78</td>\n",
              "    </tr>\n",
              "    <tr>\n",
              "      <th>55</th>\n",
              "      <td>cine_photo</td>\n",
              "      <td>74</td>\n",
              "    </tr>\n",
              "    <tr>\n",
              "      <th>56</th>\n",
              "      <td>dvds_blu_ray</td>\n",
              "      <td>70</td>\n",
              "    </tr>\n",
              "    <tr>\n",
              "      <th>57</th>\n",
              "      <td>books_imported</td>\n",
              "      <td>62</td>\n",
              "    </tr>\n",
              "    <tr>\n",
              "      <th>58</th>\n",
              "      <td>fashio_female_clothing</td>\n",
              "      <td>50</td>\n",
              "    </tr>\n",
              "    <tr>\n",
              "      <th>59</th>\n",
              "      <td>party_supplies</td>\n",
              "      <td>46</td>\n",
              "    </tr>\n",
              "    <tr>\n",
              "      <th>60</th>\n",
              "      <td>furniture_mattress_and_upholstery</td>\n",
              "      <td>41</td>\n",
              "    </tr>\n",
              "    <tr>\n",
              "      <th>61</th>\n",
              "      <td>music</td>\n",
              "      <td>40</td>\n",
              "    </tr>\n",
              "    <tr>\n",
              "      <th>62</th>\n",
              "      <td>diapers_and_hygiene</td>\n",
              "      <td>39</td>\n",
              "    </tr>\n",
              "    <tr>\n",
              "      <th>63</th>\n",
              "      <td>flowers</td>\n",
              "      <td>31</td>\n",
              "    </tr>\n",
              "    <tr>\n",
              "      <th>64</th>\n",
              "      <td>fashion_sport</td>\n",
              "      <td>31</td>\n",
              "    </tr>\n",
              "    <tr>\n",
              "      <th>65</th>\n",
              "      <td>home_comfort_2</td>\n",
              "      <td>28</td>\n",
              "    </tr>\n",
              "    <tr>\n",
              "      <th>66</th>\n",
              "      <td>arts_and_craftmanship</td>\n",
              "      <td>24</td>\n",
              "    </tr>\n",
              "    <tr>\n",
              "      <th>67</th>\n",
              "      <td>la_cuisine</td>\n",
              "      <td>15</td>\n",
              "    </tr>\n",
              "    <tr>\n",
              "      <th>68</th>\n",
              "      <td>cds_dvds_musicals</td>\n",
              "      <td>14</td>\n",
              "    </tr>\n",
              "    <tr>\n",
              "      <th>69</th>\n",
              "      <td>fashion_childrens_clothes</td>\n",
              "      <td>8</td>\n",
              "    </tr>\n",
              "    <tr>\n",
              "      <th>70</th>\n",
              "      <td>security_and_services</td>\n",
              "      <td>2</td>\n",
              "    </tr>\n",
              "  </tbody>\n",
              "</table>\n",
              "</div>"
            ],
            "text/plain": [
              "                                      index  product_category_name_english\n",
              "0                            bed_bath_table                          11847\n",
              "1                             health_beauty                           9944\n",
              "2                            sports_leisure                           8942\n",
              "3                           furniture_decor                           8743\n",
              "4                     computers_accessories                           8105\n",
              "5                                housewares                           7331\n",
              "6                             watches_gifts                           6161\n",
              "7                                 telephony                           4692\n",
              "8                              garden_tools                           4558\n",
              "9                                      auto                           4356\n",
              "10                                     toys                           4246\n",
              "11                               cool_stuff                           3964\n",
              "12                                perfumery                           3575\n",
              "13                                     baby                           3178\n",
              "14                              electronics                           2827\n",
              "15                               stationery                           2607\n",
              "16                 fashion_bags_accessories                           2159\n",
              "17                                 pet_shop                           2020\n",
              "18                         office_furniture                           1773\n",
              "19                           consoles_games                           1180\n",
              "20                      luggage_accessories                           1159\n",
              "21          construction_tools_construction                            950\n",
              "22                          home_appliances                            823\n",
              "23                      musical_instruments                            712\n",
              "24                         small_appliances                            699\n",
              "25                        home_construction                            630\n",
              "26                   books_general_interest                            561\n",
              "27                    furniture_living_room                            522\n",
              "28                                     food                            511\n",
              "29                             home_confort                            476\n",
              "30                                   drinks                            384\n",
              "31                                    audio                            377\n",
              "32                             market_place                            330\n",
              "33                construction_tools_lights                            305\n",
              "34                         air_conditioning                            297\n",
              "35  kitchen_dining_laundry_garden_furniture                            297\n",
              "36                               food_drink                            290\n",
              "37                            fashion_shoes                            273\n",
              "38                          books_technical                            269\n",
              "39           industry_commerce_and_business                            269\n",
              "40                          fixed_telephony                            269\n",
              "41                        home_appliances_2                            268\n",
              "42               agro_industry_and_commerce                            252\n",
              "43                 costruction_tools_garden                            247\n",
              "44                                computers                            217\n",
              "45                                      art                            217\n",
              "46                   signaling_and_security                            199\n",
              "47                construction_tools_safety                            198\n",
              "48                       christmas_supplies                            148\n",
              "49                    fashion_male_clothing                            144\n",
              "50                  fashion_underwear_beach                            143\n",
              "51                        furniture_bedroom                            126\n",
              "52                  costruction_tools_tools                            101\n",
              "53                   tablets_printing_image                             85\n",
              "54    small_appliances_home_oven_and_coffee                             78\n",
              "55                               cine_photo                             74\n",
              "56                             dvds_blu_ray                             70\n",
              "57                           books_imported                             62\n",
              "58                   fashio_female_clothing                             50\n",
              "59                           party_supplies                             46\n",
              "60        furniture_mattress_and_upholstery                             41\n",
              "61                                    music                             40\n",
              "62                      diapers_and_hygiene                             39\n",
              "63                                  flowers                             31\n",
              "64                            fashion_sport                             31\n",
              "65                           home_comfort_2                             28\n",
              "66                    arts_and_craftmanship                             24\n",
              "67                               la_cuisine                             15\n",
              "68                        cds_dvds_musicals                             14\n",
              "69                fashion_childrens_clothes                              8\n",
              "70                    security_and_services                              2"
            ]
          },
          "execution_count": 61,
          "metadata": {},
          "output_type": "execute_result"
        }
      ],
      "source": [
        "bar_category = pd.DataFrame(df_olist_complet[\"product_category_name_english\"]\n",
        "                            .value_counts()).reset_index()\n",
        "bar_category"
      ]
    },
    {
      "cell_type": "code",
      "execution_count": null,
      "id": "10281550",
      "metadata": {
        "id": "10281550",
        "outputId": "b4948d0a-5229-4fb7-83e7-013a7809c745"
      },
      "outputs": [
        {
          "data": {
            "text/plain": [
              "<AxesSubplot:title={'center':'Nombre de statuts de commandes'}, xlabel='index'>"
            ]
          },
          "execution_count": 62,
          "metadata": {},
          "output_type": "execute_result"
        },
        {
          "data": {
            "image/png": "[encoded data removed]",
            "text/plain": [
              "<Figure size 1080x1080 with 1 Axes>"
            ]
          },
          "metadata": {},
          "output_type": "display_data"
        }
      ],
      "source": [
        "bar_category.plot.bar(\n",
        "    y=\"product_category_name_english\",\n",
        "    x=\"index\",\n",
        "    figsize=(15, 15),\n",
        "    title=\"Nombre de statuts de commandes\",\n",
        ")"
      ]
    },
    {
      "cell_type": "markdown",
      "id": "c31eaef8-7b50-4814-a286-1fbd7946753e",
      "metadata": {
        "id": "c31eaef8-7b50-4814-a286-1fbd7946753e"
      },
      "source": [
        "#### Valeur des paiments"
      ]
    },
    {
      "cell_type": "code",
      "execution_count": null,
      "id": "161a33ba-84a5-410b-a8ab-2039f1b192d0",
      "metadata": {
        "id": "161a33ba-84a5-410b-a8ab-2039f1b192d0",
        "outputId": "ccccd8a8-dcda-4c0a-f396-95a5afb0d321"
      },
      "outputs": [
        {
          "data": {
            "text/plain": [
              "count    115609.000000\n",
              "mean        172.387379\n",
              "std         265.873969\n",
              "min           0.000000\n",
              "25%          60.870000\n",
              "50%         108.050000\n",
              "75%         189.480000\n",
              "max       13664.080000\n",
              "Name: payment_value, dtype: float64"
            ]
          },
          "execution_count": 63,
          "metadata": {},
          "output_type": "execute_result"
        }
      ],
      "source": [
        "df_olist_complet[\"payment_value\"].describe()"
      ]
    },
    {
      "cell_type": "code",
      "execution_count": null,
      "id": "5b63ca5c-2dcd-4ea0-8e2d-e214f51e1bb4",
      "metadata": {
        "scrolled": true,
        "id": "5b63ca5c-2dcd-4ea0-8e2d-e214f51e1bb4",
        "outputId": "3fe51266-72fd-4f88-a2eb-4175c8eec1de"
      },
      "outputs": [
        {
          "data": {
            "image/png": "[encoded data removed]",
            "text/plain": [
              "<Figure size 1080x1080 with 1 Axes>"
            ]
          },
          "metadata": {},
          "output_type": "display_data"
        }
      ],
      "source": [
        "ax = sns.displot(df_olist_complet[\"payment_value\"], kde=True).set(\n",
        "    title=\"Distribution des valeurs de paiements\"\n",
        ")\n",
        "ax.fig.set_figwidth(15)\n",
        "ax.fig.set_figheight(15)"
      ]
    },
    {
      "cell_type": "markdown",
      "id": "f298ae41-b523-488f-bc70-8f4e7b9a5965",
      "metadata": {
        "id": "f298ae41-b523-488f-bc70-8f4e7b9a5965"
      },
      "source": [
        "#### Nombre de clients"
      ]
    },
    {
      "cell_type": "code",
      "execution_count": null,
      "id": "58fbc355-2231-4f88-a58e-31bfe41d2ca9",
      "metadata": {
        "id": "58fbc355-2231-4f88-a58e-31bfe41d2ca9",
        "outputId": "1ee5f9f8-8f2d-40b1-eb5f-99dd65ddc29a"
      },
      "outputs": [
        {
          "data": {
            "text/plain": [
              "93396"
            ]
          },
          "execution_count": 65,
          "metadata": {},
          "output_type": "execute_result"
        }
      ],
      "source": [
        "df_olist_complet[\"customer_unique_id\"].nunique()"
      ]
    },
    {
      "cell_type": "markdown",
      "id": "8264f96a",
      "metadata": {
        "id": "8264f96a"
      },
      "source": [
        "#### Nombre de commandes"
      ]
    },
    {
      "cell_type": "code",
      "execution_count": null,
      "id": "3d1b341c",
      "metadata": {
        "id": "3d1b341c",
        "outputId": "14bbd2f1-0318-47ca-cf70-df39cf7521c6"
      },
      "outputs": [
        {
          "data": {
            "text/plain": [
              "96516"
            ]
          },
          "execution_count": 66,
          "metadata": {},
          "output_type": "execute_result"
        }
      ],
      "source": [
        "df_olist_complet[\"order_id\"].nunique()"
      ]
    },
    {
      "cell_type": "markdown",
      "id": "44584162",
      "metadata": {
        "id": "44584162"
      },
      "source": [
        "#### CA"
      ]
    },
    {
      "cell_type": "markdown",
      "id": "a6d2bf0a",
      "metadata": {
        "id": "a6d2bf0a"
      },
      "source": [
        "##### Total"
      ]
    },
    {
      "cell_type": "code",
      "execution_count": null,
      "id": "ad202e28",
      "metadata": {
        "id": "ad202e28",
        "outputId": "4583bbd6-1c14-44ce-df10-26bcb35a63de"
      },
      "outputs": [
        {
          "data": {
            "text/plain": [
              "19929532.499999996"
            ]
          },
          "execution_count": 67,
          "metadata": {},
          "output_type": "execute_result"
        }
      ],
      "source": [
        "df_olist_complet[\"payment_value\"].sum()"
      ]
    },
    {
      "cell_type": "code",
      "execution_count": null,
      "id": "4577bfc0",
      "metadata": {
        "id": "4577bfc0",
        "outputId": "cfa04653-d996-45a7-9177-89796538fbda"
      },
      "outputs": [
        {
          "data": {
            "text/plain": [
              "2018    62721\n",
              "2017    52888\n",
              "Name: order_purchase_timestamp, dtype: int64"
            ]
          },
          "execution_count": 68,
          "metadata": {},
          "output_type": "execute_result"
        }
      ],
      "source": [
        "pd.DatetimeIndex(df_olist_complet[\n",
        "    \"order_purchase_timestamp\"]).year.value_counts()"
      ]
    },
    {
      "cell_type": "markdown",
      "id": "26bfa053",
      "metadata": {
        "id": "26bfa053"
      },
      "source": [
        "##### 2016"
      ]
    },
    {
      "cell_type": "code",
      "execution_count": null,
      "id": "d8bb6c1c",
      "metadata": {
        "id": "d8bb6c1c",
        "outputId": "76eb338f-ed42-41b2-dd9e-1d29f5dcf71f"
      },
      "outputs": [
        {
          "data": {
            "text/plain": [
              "73142.95999999999"
            ]
          },
          "execution_count": 69,
          "metadata": {},
          "output_type": "execute_result"
        }
      ],
      "source": [
        "df_olist_complet_initial[pd.DatetimeIndex(\n",
        "    df_olist_complet_initial[\"order_purchase_timestamp\"]).year == 2016][\n",
        "    \"payment_value\"].sum()"
      ]
    },
    {
      "cell_type": "markdown",
      "id": "02b9c857",
      "metadata": {
        "id": "02b9c857"
      },
      "source": [
        "##### 2017"
      ]
    },
    {
      "cell_type": "code",
      "execution_count": null,
      "id": "fe889cde",
      "metadata": {
        "id": "fe889cde",
        "outputId": "ce92a973-1b2e-462b-f5ac-d9eb72d54d7d"
      },
      "outputs": [
        {
          "data": {
            "text/plain": [
              "8947145.91"
            ]
          },
          "execution_count": 70,
          "metadata": {},
          "output_type": "execute_result"
        }
      ],
      "source": [
        "df_olist_complet_initial[pd.DatetimeIndex(\n",
        "    df_olist_complet_initial[\"order_purchase_timestamp\"]).year == 2017][\n",
        "    \"payment_value\"].sum()"
      ]
    },
    {
      "cell_type": "markdown",
      "id": "943a49be",
      "metadata": {
        "id": "943a49be"
      },
      "source": [
        "##### 2018"
      ]
    },
    {
      "cell_type": "code",
      "execution_count": null,
      "id": "6d372834",
      "metadata": {
        "id": "6d372834",
        "outputId": "7a420b1f-332d-4195-8eb0-76cd38c3a782"
      },
      "outputs": [
        {
          "data": {
            "text/plain": [
              "10909243.63"
            ]
          },
          "execution_count": 71,
          "metadata": {},
          "output_type": "execute_result"
        }
      ],
      "source": [
        "df_olist_complet_initial[pd.DatetimeIndex(\n",
        "    df_olist_complet_initial[\"order_purchase_timestamp\"]).year == 2018][\n",
        "    \"payment_value\"].sum()"
      ]
    }
  ],
  "metadata": {
    "kernelspec": {
      "display_name": "Python 3 (ipykernel)",
      "language": "python",
      "name": "python3"
    },
    "language_info": {
      "codemirror_mode": {
        "name": "ipython",
        "version": 3
      },
      "file_extension": ".py",
      "mimetype": "text/x-python",
      "name": "python",
      "nbconvert_exporter": "python",
      "pygments_lexer": "ipython3",
      "version": "3.8.12"
    },
    "colab": {
      "provenance": []
    }
  },
  "nbformat": 4,
  "nbformat_minor": 5
}